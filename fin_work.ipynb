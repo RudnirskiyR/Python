{
 "cells": [
  {
   "cell_type": "code",
   "execution_count": 1082,
   "metadata": {},
   "outputs": [],
   "source": [
    "import numpy as np\n",
    "from scipy.stats import t\n",
    "from scipy.stats import norm\n",
    "import matplotlib.pyplot as plt\n",
    "from scipy import stats\n",
    "import pandas as pd\n",
    "import io\n",
    "import requests\n",
    "import seaborn as sns\n",
    "from matplotlib.pyplot import figure\n",
    "from pylab import rcParams\n",
    "from random import randint \n",
    "import statistics\n",
    "import numpy.linalg as la\n",
    "import math\n",
    "\n",
    "%matplotlib inline"
   ]
  },
  {
   "cell_type": "code",
   "execution_count": 1085,
   "metadata": {},
   "outputs": [
    {
     "data": {
      "text/html": [
       "<div>\n",
       "<style scoped>\n",
       "    .dataframe tbody tr th:only-of-type {\n",
       "        vertical-align: middle;\n",
       "    }\n",
       "\n",
       "    .dataframe tbody tr th {\n",
       "        vertical-align: top;\n",
       "    }\n",
       "\n",
       "    .dataframe thead th {\n",
       "        text-align: right;\n",
       "    }\n",
       "</style>\n",
       "<table border=\"1\" class=\"dataframe\">\n",
       "  <thead>\n",
       "    <tr style=\"text-align: right;\">\n",
       "      <th></th>\n",
       "      <th>InvoiceNo</th>\n",
       "      <th>StockCode</th>\n",
       "      <th>Description</th>\n",
       "      <th>Quantity</th>\n",
       "      <th>InvoiceDate</th>\n",
       "      <th>UnitPrice</th>\n",
       "      <th>CustomerID</th>\n",
       "      <th>Country</th>\n",
       "    </tr>\n",
       "  </thead>\n",
       "  <tbody>\n",
       "    <tr>\n",
       "      <th>0</th>\n",
       "      <td>536365</td>\n",
       "      <td>84029E</td>\n",
       "      <td>RED WOOLLY HOTTIE WHITE HEART.</td>\n",
       "      <td>6</td>\n",
       "      <td>2010-12-01 08:26:00</td>\n",
       "      <td>3.39</td>\n",
       "      <td>17850.0</td>\n",
       "      <td>United Kingdom</td>\n",
       "    </tr>\n",
       "    <tr>\n",
       "      <th>1</th>\n",
       "      <td>536367</td>\n",
       "      <td>84879</td>\n",
       "      <td>ASSORTED COLOUR BIRD ORNAMENT</td>\n",
       "      <td>32</td>\n",
       "      <td>2010-12-01 08:34:00</td>\n",
       "      <td>1.69</td>\n",
       "      <td>13047.0</td>\n",
       "      <td>United Kingdom</td>\n",
       "    </tr>\n",
       "    <tr>\n",
       "      <th>2</th>\n",
       "      <td>536367</td>\n",
       "      <td>21755</td>\n",
       "      <td>LOVE BUILDING BLOCK WORD</td>\n",
       "      <td>3</td>\n",
       "      <td>2010-12-01 08:34:00</td>\n",
       "      <td>5.95</td>\n",
       "      <td>13047.0</td>\n",
       "      <td>United Kingdom</td>\n",
       "    </tr>\n",
       "    <tr>\n",
       "      <th>3</th>\n",
       "      <td>536368</td>\n",
       "      <td>22914</td>\n",
       "      <td>BLUE COAT RACK PARIS FASHION</td>\n",
       "      <td>3</td>\n",
       "      <td>2010-12-01 08:34:00</td>\n",
       "      <td>4.95</td>\n",
       "      <td>13047.0</td>\n",
       "      <td>United Kingdom</td>\n",
       "    </tr>\n",
       "    <tr>\n",
       "      <th>4</th>\n",
       "      <td>536373</td>\n",
       "      <td>84406B</td>\n",
       "      <td>CREAM CUPID HEARTS COAT HANGER</td>\n",
       "      <td>8</td>\n",
       "      <td>2010-12-01 09:02:00</td>\n",
       "      <td>2.75</td>\n",
       "      <td>17850.0</td>\n",
       "      <td>United Kingdom</td>\n",
       "    </tr>\n",
       "  </tbody>\n",
       "</table>\n",
       "</div>"
      ],
      "text/plain": [
       "  InvoiceNo StockCode                     Description  Quantity  \\\n",
       "0    536365    84029E  RED WOOLLY HOTTIE WHITE HEART.         6   \n",
       "1    536367     84879   ASSORTED COLOUR BIRD ORNAMENT        32   \n",
       "2    536367     21755        LOVE BUILDING BLOCK WORD         3   \n",
       "3    536368     22914    BLUE COAT RACK PARIS FASHION         3   \n",
       "4    536373    84406B  CREAM CUPID HEARTS COAT HANGER         8   \n",
       "\n",
       "          InvoiceDate  UnitPrice  CustomerID         Country  \n",
       "0 2010-12-01 08:26:00       3.39     17850.0  United Kingdom  \n",
       "1 2010-12-01 08:34:00       1.69     13047.0  United Kingdom  \n",
       "2 2010-12-01 08:34:00       5.95     13047.0  United Kingdom  \n",
       "3 2010-12-01 08:34:00       4.95     13047.0  United Kingdom  \n",
       "4 2010-12-01 09:02:00       2.75     17850.0  United Kingdom  "
      ]
     },
     "execution_count": 1085,
     "metadata": {},
     "output_type": "execute_result"
    }
   ],
   "source": [
    "df = pd.read_excel('Data Sample (AIC-1).xlsx')\n",
    "df.head()"
   ]
  },
  {
   "cell_type": "markdown",
   "metadata": {},
   "source": [
    "Перед тем как начинать анализ, необходимо почистить датасет. <br>\n",
    "Избавиься от пустых значений ( если их число не превышает критическое значение) <br>\n",
    "Оценить качество данных"
   ]
  },
  {
   "cell_type": "code",
   "execution_count": 1086,
   "metadata": {},
   "outputs": [
    {
     "name": "stdout",
     "output_type": "stream",
     "text": [
      "<class 'pandas.core.frame.DataFrame'>\n",
      "RangeIndex: 54214 entries, 0 to 54213\n",
      "Data columns (total 8 columns):\n",
      "InvoiceNo      54214 non-null object\n",
      "StockCode      54214 non-null object\n",
      "Description    54080 non-null object\n",
      "Quantity       54214 non-null int64\n",
      "InvoiceDate    54214 non-null datetime64[ns]\n",
      "UnitPrice      54214 non-null float64\n",
      "CustomerID     40643 non-null float64\n",
      "Country        54214 non-null object\n",
      "dtypes: datetime64[ns](1), float64(2), int64(1), object(4)\n",
      "memory usage: 3.3+ MB\n"
     ]
    }
   ],
   "source": [
    "df.info()"
   ]
  },
  {
   "cell_type": "code",
   "execution_count": 1087,
   "metadata": {},
   "outputs": [
    {
     "data": {
      "text/plain": [
       "InvoiceNo          0\n",
       "StockCode          0\n",
       "Description      134\n",
       "Quantity           0\n",
       "InvoiceDate        0\n",
       "UnitPrice          0\n",
       "CustomerID     13571\n",
       "Country            0\n",
       "dtype: int64"
      ]
     },
     "execution_count": 1087,
     "metadata": {},
     "output_type": "execute_result"
    }
   ],
   "source": [
    "df.isnull().sum()"
   ]
  },
  {
   "cell_type": "code",
   "execution_count": 1088,
   "metadata": {},
   "outputs": [
    {
     "name": "stdout",
     "output_type": "stream",
     "text": [
      "1083\n"
     ]
    }
   ],
   "source": [
    "neg_Quantity = []\n",
    "\n",
    "for i in df['Quantity']:\n",
    "    if i < 0:\n",
    "        neg_Quantity.append(i)\n",
    "print(len(neg_Quantity ))"
   ]
  },
  {
   "cell_type": "markdown",
   "metadata": {},
   "source": [
    "В столбце кол-во около 1083 отрицательных значени. Это может означать: <br>\n",
    "    > Бронь товара, которого еще нет на складе <br>\n",
    "    > Воврат товара<br>\n",
    "    > Брак<br>\n",
    "    > Битые данные<br>\n",
    "    > Отсутвие оплаты по товара<br>\n",
    "Т.к нет возможности выявить причину, уберем их из выборки, чтоб не смазывать даныне ( так делать не очень хорошо, но в условиях невозможности получить фактическую информацию, я себе это позволил)"
   ]
  },
  {
   "cell_type": "code",
   "execution_count": 1089,
   "metadata": {},
   "outputs": [
    {
     "name": "stdout",
     "output_type": "stream",
     "text": [
      "0\n"
     ]
    }
   ],
   "source": [
    "neg_price = []\n",
    "\n",
    "for i in df['UnitPrice']:\n",
    "    if i < 0:\n",
    "        neg_price.append(i)\n",
    "print(len(neg_price))"
   ]
  },
  {
   "cell_type": "code",
   "execution_count": 1090,
   "metadata": {},
   "outputs": [],
   "source": [
    "Share_Description = (df.isnull().sum()['Description']/ len(df.Description))*100\n",
    "Share_Customer =  (df.isnull().sum()['CustomerID']/ len(df.CustomerID))* 100\n",
    "Share_Quantity = (len(neg_Quantity ))/ len(df.Quantity)*100\n",
    "Share_Description= round(Share_Description, 3)\n",
    "Share_Customer = round(Share_Customer, 3)\n",
    "Share_Quantity = round(Share_Quantity, 3)"
   ]
  },
  {
   "cell_type": "code",
   "execution_count": 1091,
   "metadata": {},
   "outputs": [
    {
     "name": "stdout",
     "output_type": "stream",
     "text": [
      "0.247 %   - Кол-во пустых значений в описании\n",
      "25.032 %   - Кол-во пустых значений в столбце покупатель\n",
      "1.998 %   -Кол-во отрицательных значений в столбце кол-во\n"
     ]
    }
   ],
   "source": [
    "print(Share_Description,\"%\", \"  - Кол-во пустых значений в описании\")\n",
    "print(Share_Customer,\"%\", \"  - Кол-во пустых значений в столбце покупатель\")\n",
    "print(Share_Quantity,\"%\", \"  -Кол-во отрицательных значений в столбце кол-во\")"
   ]
  },
  {
   "cell_type": "markdown",
   "metadata": {},
   "source": [
    "Видим, что отсутсвуют несколько значение в столбце \" Description\" \n",
    "И около четверти в графе \" Customer\" <br>\n",
    "Очистим строки, в которых нет информации о товаре"
   ]
  },
  {
   "cell_type": "code",
   "execution_count": 1092,
   "metadata": {},
   "outputs": [],
   "source": [
    "df = df.dropna(subset=['Description','InvoiceNo'])"
   ]
  },
  {
   "cell_type": "code",
   "execution_count": 1093,
   "metadata": {},
   "outputs": [
    {
     "data": {
      "text/plain": [
       "(53081, 8)"
      ]
     },
     "execution_count": 1093,
     "metadata": {},
     "output_type": "execute_result"
    }
   ],
   "source": [
    "df = df[df['Quantity'] >= 0]\n",
    "df.shape"
   ]
  },
  {
   "cell_type": "markdown",
   "metadata": {},
   "source": [
    "Заполним пустые id пользователей случайными, но так чтоб их можно было выделить с общей массы"
   ]
  },
  {
   "cell_type": "code",
   "execution_count": 1094,
   "metadata": {},
   "outputs": [
    {
     "data": {
      "text/plain": [
       "3793"
      ]
     },
     "execution_count": 1094,
     "metadata": {},
     "output_type": "execute_result"
    }
   ],
   "source": [
    "len(pd.unique(df['CustomerID']))"
   ]
  },
  {
   "cell_type": "markdown",
   "metadata": {},
   "source": [
    "Выбираем диапазон, отличающийся от имеющегося в выборке ( нам это потом понадобится для построения дэшборда)"
   ]
  },
  {
   "cell_type": "code",
   "execution_count": 1095,
   "metadata": {},
   "outputs": [],
   "source": [
    "def fill_missing(column_val):\n",
    "    if np.isnan(column_val) == True: \n",
    "        column_val = np.random.randint(100000, 200000)\n",
    "    else:\n",
    "         column_val = column_val\n",
    "    return column_val"
   ]
  },
  {
   "cell_type": "code",
   "execution_count": 1096,
   "metadata": {},
   "outputs": [],
   "source": [
    "df['CustomerID'] = df['CustomerID'].apply(fill_missing)"
   ]
  },
  {
   "cell_type": "markdown",
   "metadata": {},
   "source": [
    "Добавим столбец с итоговой суммой чека ( цена на кол-во) "
   ]
  },
  {
   "cell_type": "code",
   "execution_count": 1097,
   "metadata": {},
   "outputs": [],
   "source": [
    "df['Revenue'] = df.Quantity * df.UnitPrice"
   ]
  },
  {
   "cell_type": "code",
   "execution_count": 1098,
   "metadata": {},
   "outputs": [
    {
     "data": {
      "text/html": [
       "<div>\n",
       "<style scoped>\n",
       "    .dataframe tbody tr th:only-of-type {\n",
       "        vertical-align: middle;\n",
       "    }\n",
       "\n",
       "    .dataframe tbody tr th {\n",
       "        vertical-align: top;\n",
       "    }\n",
       "\n",
       "    .dataframe thead th {\n",
       "        text-align: right;\n",
       "    }\n",
       "</style>\n",
       "<table border=\"1\" class=\"dataframe\">\n",
       "  <thead>\n",
       "    <tr style=\"text-align: right;\">\n",
       "      <th></th>\n",
       "      <th>InvoiceNo</th>\n",
       "      <th>StockCode</th>\n",
       "      <th>Description</th>\n",
       "      <th>Quantity</th>\n",
       "      <th>InvoiceDate</th>\n",
       "      <th>UnitPrice</th>\n",
       "      <th>CustomerID</th>\n",
       "      <th>Country</th>\n",
       "      <th>Revenue</th>\n",
       "    </tr>\n",
       "  </thead>\n",
       "  <tbody>\n",
       "    <tr>\n",
       "      <th>0</th>\n",
       "      <td>536365</td>\n",
       "      <td>84029E</td>\n",
       "      <td>RED WOOLLY HOTTIE WHITE HEART.</td>\n",
       "      <td>6</td>\n",
       "      <td>2010-12-01 08:26:00</td>\n",
       "      <td>3.39</td>\n",
       "      <td>17850.0</td>\n",
       "      <td>United Kingdom</td>\n",
       "      <td>20.34</td>\n",
       "    </tr>\n",
       "    <tr>\n",
       "      <th>1</th>\n",
       "      <td>536367</td>\n",
       "      <td>84879</td>\n",
       "      <td>ASSORTED COLOUR BIRD ORNAMENT</td>\n",
       "      <td>32</td>\n",
       "      <td>2010-12-01 08:34:00</td>\n",
       "      <td>1.69</td>\n",
       "      <td>13047.0</td>\n",
       "      <td>United Kingdom</td>\n",
       "      <td>54.08</td>\n",
       "    </tr>\n",
       "    <tr>\n",
       "      <th>2</th>\n",
       "      <td>536367</td>\n",
       "      <td>21755</td>\n",
       "      <td>LOVE BUILDING BLOCK WORD</td>\n",
       "      <td>3</td>\n",
       "      <td>2010-12-01 08:34:00</td>\n",
       "      <td>5.95</td>\n",
       "      <td>13047.0</td>\n",
       "      <td>United Kingdom</td>\n",
       "      <td>17.85</td>\n",
       "    </tr>\n",
       "    <tr>\n",
       "      <th>3</th>\n",
       "      <td>536368</td>\n",
       "      <td>22914</td>\n",
       "      <td>BLUE COAT RACK PARIS FASHION</td>\n",
       "      <td>3</td>\n",
       "      <td>2010-12-01 08:34:00</td>\n",
       "      <td>4.95</td>\n",
       "      <td>13047.0</td>\n",
       "      <td>United Kingdom</td>\n",
       "      <td>14.85</td>\n",
       "    </tr>\n",
       "    <tr>\n",
       "      <th>4</th>\n",
       "      <td>536373</td>\n",
       "      <td>84406B</td>\n",
       "      <td>CREAM CUPID HEARTS COAT HANGER</td>\n",
       "      <td>8</td>\n",
       "      <td>2010-12-01 09:02:00</td>\n",
       "      <td>2.75</td>\n",
       "      <td>17850.0</td>\n",
       "      <td>United Kingdom</td>\n",
       "      <td>22.00</td>\n",
       "    </tr>\n",
       "  </tbody>\n",
       "</table>\n",
       "</div>"
      ],
      "text/plain": [
       "  InvoiceNo StockCode                     Description  Quantity  \\\n",
       "0    536365    84029E  RED WOOLLY HOTTIE WHITE HEART.         6   \n",
       "1    536367     84879   ASSORTED COLOUR BIRD ORNAMENT        32   \n",
       "2    536367     21755        LOVE BUILDING BLOCK WORD         3   \n",
       "3    536368     22914    BLUE COAT RACK PARIS FASHION         3   \n",
       "4    536373    84406B  CREAM CUPID HEARTS COAT HANGER         8   \n",
       "\n",
       "          InvoiceDate  UnitPrice  CustomerID         Country  Revenue  \n",
       "0 2010-12-01 08:26:00       3.39     17850.0  United Kingdom    20.34  \n",
       "1 2010-12-01 08:34:00       1.69     13047.0  United Kingdom    54.08  \n",
       "2 2010-12-01 08:34:00       5.95     13047.0  United Kingdom    17.85  \n",
       "3 2010-12-01 08:34:00       4.95     13047.0  United Kingdom    14.85  \n",
       "4 2010-12-01 09:02:00       2.75     17850.0  United Kingdom    22.00  "
      ]
     },
     "execution_count": 1098,
     "metadata": {},
     "output_type": "execute_result"
    }
   ],
   "source": [
    "df.head()"
   ]
  },
  {
   "cell_type": "code",
   "execution_count": 1099,
   "metadata": {},
   "outputs": [
    {
     "data": {
      "text/plain": [
       "3364"
      ]
     },
     "execution_count": 1099,
     "metadata": {},
     "output_type": "execute_result"
    }
   ],
   "source": [
    "len(pd.unique(df['Description']))"
   ]
  },
  {
   "cell_type": "markdown",
   "metadata": {},
   "source": [
    "Посмотрим основные стат показатели датасета"
   ]
  },
  {
   "cell_type": "code",
   "execution_count": 1100,
   "metadata": {},
   "outputs": [
    {
     "data": {
      "text/html": [
       "<div>\n",
       "<style scoped>\n",
       "    .dataframe tbody tr th:only-of-type {\n",
       "        vertical-align: middle;\n",
       "    }\n",
       "\n",
       "    .dataframe tbody tr th {\n",
       "        vertical-align: top;\n",
       "    }\n",
       "\n",
       "    .dataframe thead th {\n",
       "        text-align: right;\n",
       "    }\n",
       "</style>\n",
       "<table border=\"1\" class=\"dataframe\">\n",
       "  <thead>\n",
       "    <tr style=\"text-align: right;\">\n",
       "      <th></th>\n",
       "      <th>Quantity</th>\n",
       "      <th>UnitPrice</th>\n",
       "      <th>CustomerID</th>\n",
       "      <th>Revenue</th>\n",
       "    </tr>\n",
       "  </thead>\n",
       "  <tbody>\n",
       "    <tr>\n",
       "      <th>count</th>\n",
       "      <td>53081.000000</td>\n",
       "      <td>53081.000000</td>\n",
       "      <td>53081.000000</td>\n",
       "      <td>53081.000000</td>\n",
       "    </tr>\n",
       "    <tr>\n",
       "      <th>mean</th>\n",
       "      <td>10.425576</td>\n",
       "      <td>3.831411</td>\n",
       "      <td>49189.528796</td>\n",
       "      <td>19.897289</td>\n",
       "    </tr>\n",
       "    <tr>\n",
       "      <th>std</th>\n",
       "      <td>37.627109</td>\n",
       "      <td>17.806366</td>\n",
       "      <td>60225.561764</td>\n",
       "      <td>66.988686</td>\n",
       "    </tr>\n",
       "    <tr>\n",
       "      <th>min</th>\n",
       "      <td>1.000000</td>\n",
       "      <td>0.000000</td>\n",
       "      <td>12347.000000</td>\n",
       "      <td>0.000000</td>\n",
       "    </tr>\n",
       "    <tr>\n",
       "      <th>25%</th>\n",
       "      <td>1.000000</td>\n",
       "      <td>1.250000</td>\n",
       "      <td>14388.000000</td>\n",
       "      <td>3.900000</td>\n",
       "    </tr>\n",
       "    <tr>\n",
       "      <th>50%</th>\n",
       "      <td>3.000000</td>\n",
       "      <td>2.080000</td>\n",
       "      <td>16255.000000</td>\n",
       "      <td>9.900000</td>\n",
       "    </tr>\n",
       "    <tr>\n",
       "      <th>75%</th>\n",
       "      <td>11.000000</td>\n",
       "      <td>4.130000</td>\n",
       "      <td>100721.000000</td>\n",
       "      <td>17.700000</td>\n",
       "    </tr>\n",
       "    <tr>\n",
       "      <th>max</th>\n",
       "      <td>2400.000000</td>\n",
       "      <td>1687.170000</td>\n",
       "      <td>199999.000000</td>\n",
       "      <td>4121.640000</td>\n",
       "    </tr>\n",
       "  </tbody>\n",
       "</table>\n",
       "</div>"
      ],
      "text/plain": [
       "           Quantity     UnitPrice     CustomerID       Revenue\n",
       "count  53081.000000  53081.000000   53081.000000  53081.000000\n",
       "mean      10.425576      3.831411   49189.528796     19.897289\n",
       "std       37.627109     17.806366   60225.561764     66.988686\n",
       "min        1.000000      0.000000   12347.000000      0.000000\n",
       "25%        1.000000      1.250000   14388.000000      3.900000\n",
       "50%        3.000000      2.080000   16255.000000      9.900000\n",
       "75%       11.000000      4.130000  100721.000000     17.700000\n",
       "max     2400.000000   1687.170000  199999.000000   4121.640000"
      ]
     },
     "execution_count": 1100,
     "metadata": {},
     "output_type": "execute_result"
    }
   ],
   "source": [
    "df.describe()"
   ]
  },
  {
   "cell_type": "code",
   "execution_count": 1101,
   "metadata": {},
   "outputs": [
    {
     "data": {
      "text/plain": [
       "<matplotlib.axes._subplots.AxesSubplot at 0x14602ffd9b0>"
      ]
     },
     "execution_count": 1101,
     "metadata": {},
     "output_type": "execute_result"
    },
    {
     "data": {
      "image/png": "[encoded data removed]",
      "text/plain": [
       "<Figure size 432x288 with 1 Axes>"
      ]
     },
     "metadata": {
      "needs_background": "light"
     },
     "output_type": "display_data"
    }
   ],
   "source": [
    "sns.distplot( df.Revenue)"
   ]
  },
  {
   "cell_type": "markdown",
   "metadata": {},
   "source": [
    "Из графика видно, что большая доля покупок приходится на малые суммы, <br> \n",
    "Посмотрим в приближении"
   ]
  },
  {
   "cell_type": "code",
   "execution_count": 1102,
   "metadata": {},
   "outputs": [
    {
     "data": {
      "text/plain": [
       "<matplotlib.axes._subplots.AxesSubplot at 0x1460baddeb8>"
      ]
     },
     "execution_count": 1102,
     "metadata": {},
     "output_type": "execute_result"
    },
    {
     "data": {
      "image/png": "[encoded data removed]",
      "text/plain": [
       "<Figure size 720x432 with 2 Axes>"
      ]
     },
     "metadata": {
      "needs_background": "light"
     },
     "output_type": "display_data"
    }
   ],
   "source": [
    "plt.figure(figsize=(10,6))\n",
    "plt.subplot(121)\n",
    "df[df['Revenue'] <= 50].Revenue.plot.hist(title=\"<50$\")\n",
    "plt.subplot(122)\n",
    "df[df['Revenue'] <= 500 ].Revenue.plot.hist(title=\"<500$\")"
   ]
  },
  {
   "cell_type": "markdown",
   "metadata": {},
   "source": [
    "Как видно из графика, большее число заказов приходится на небольшие суммы <br>\n",
    "Посмотрим детальнее цифры"
   ]
  },
  {
   "cell_type": "code",
   "execution_count": 1103,
   "metadata": {},
   "outputs": [
    {
     "name": "stdout",
     "output_type": "stream",
     "text": [
      "Кол-во покупок с выручкой до 50$ 49996\n",
      "Кол-во покупок с выручкой после 50$ 3113\n",
      "Доля покупок свыше 50% в общем числе покупок 0.059\n"
     ]
    }
   ],
   "source": [
    "rev_bef_50 =df[df['Revenue']<= 50].count()['InvoiceNo']\n",
    "\n",
    "rev_af_50 = df[df['Revenue']>= 50].count()['InvoiceNo']\n",
    "\n",
    "print('Кол-во покупок с выручкой до 50$', rev_bef_50)\n",
    "print('Кол-во покупок с выручкой после 50$', rev_af_50)\n",
    "print('Доля покупок свыше 50% в общем числе покупок', round(rev_af_50/df.count()['InvoiceNo'],3))"
   ]
  },
  {
   "cell_type": "markdown",
   "metadata": {},
   "source": [
    "На покупки свыше 50$ приходится меньше 1% от всех покупок <br> следовательно стоит рассматривать \"мелкие покупки\" как основное направление"
   ]
  },
  {
   "cell_type": "markdown",
   "metadata": {},
   "source": [
    "Далее оценим средний чек ( ARPPU)"
   ]
  },
  {
   "cell_type": "code",
   "execution_count": 1104,
   "metadata": {},
   "outputs": [],
   "source": [
    "sum_revenue = df['Revenue'].sum()\n",
    "num_customers = len(pd.unique(df.CustomerID))"
   ]
  },
  {
   "cell_type": "code",
   "execution_count": 1105,
   "metadata": {},
   "outputs": [
    {
     "data": {
      "text/plain": [
       "64.8"
      ]
     },
     "execution_count": 1105,
     "metadata": {},
     "output_type": "execute_result"
    }
   ],
   "source": [
    "ARPPU = round((sum_revenue/num_customers),2)\n",
    "ARPPU"
   ]
  },
  {
   "cell_type": "markdown",
   "metadata": {},
   "source": [
    "ARPPU в среднем выше чем средняя выручка с 1 покупки, следовательно клиенты возвращаются и делают повторные покупки <br> Посмотрим\n"
   ]
  },
  {
   "cell_type": "code",
   "execution_count": 1106,
   "metadata": {},
   "outputs": [
    {
     "data": {
      "text/plain": [
       "CustomerID\n",
       "17841.0    759\n",
       "14096.0    543\n",
       "14911.0    543\n",
       "12748.0    446\n",
       "14606.0    267\n",
       "Name: InvoiceNo, dtype: int64"
      ]
     },
     "execution_count": 1106,
     "metadata": {},
     "output_type": "execute_result"
    }
   ],
   "source": [
    "df_Customer_count = df.groupby('CustomerID').count().sort_values('InvoiceNo', ascending = False)['InvoiceNo']\n",
    "df_Customer_count.head()"
   ]
  },
  {
   "cell_type": "markdown",
   "metadata": {},
   "source": [
    "Видим какие то аномальные значения, посмотрим в разрезе"
   ]
  },
  {
   "cell_type": "code",
   "execution_count": 1107,
   "metadata": {},
   "outputs": [
    {
     "data": {
      "text/plain": [
       "19"
      ]
     },
     "execution_count": 1107,
     "metadata": {},
     "output_type": "execute_result"
    }
   ],
   "source": [
    "df_big_basket = df_Customer_count[df_Customer_count >= 100]\n",
    "df_big_basket.count()"
   ]
  },
  {
   "cell_type": "markdown",
   "metadata": {},
   "source": [
    "Покупателей с большим числом покупок всего 19, <br>\n",
    "Посмотрим какая доля выручки приходится на них"
   ]
  },
  {
   "cell_type": "code",
   "execution_count": 1108,
   "metadata": {},
   "outputs": [],
   "source": [
    "top_list = df_big_basket.keys().tolist()\n"
   ]
  },
  {
   "cell_type": "code",
   "execution_count": 1109,
   "metadata": {},
   "outputs": [
    {
     "name": "stdout",
     "output_type": "stream",
     "text": [
      "10.032 %  Доля выручки клиентов с большим кол-вом повторных покупок в общем числе\n"
     ]
    }
   ],
   "source": [
    "a = df.groupby('CustomerID').sum().reset_index()\n",
    "top_sum_revenue = a[a['CustomerID'].isin(top_list)].sum()['Revenue']\n",
    "print(round((top_sum_revenue/df['Revenue'].sum()*100),3),'%', ' Доля выручки клиентов с большим кол-вом повторных покупок в общем числе')"
   ]
  },
  {
   "cell_type": "markdown",
   "metadata": {},
   "source": [
    "10% от общей выручки проносят всего 19 покупателей, следует выстроить с ними тесное взаимодействие ( если такого еще нет) <br> и проработать персональные предложения для их удержания"
   ]
  },
  {
   "cell_type": "markdown",
   "metadata": {},
   "source": [
    "Так же есть смысл выделить несколько когорт и проводить анализ в рамках каждой когорты <br>\n",
    "Например: \n",
    "Крупные клиенты - свыше 100 повторных покупок за период ( учитывая что мы рассматриваем период в год есть смысл добавить детализацию в рамках 1 месяца/ недели) <br>\n",
    "Средние клиенты - от 50 до 100 повторных <br>\n",
    "Маленькие клиенты - от 20 до 50 повторных за период <br>\n",
    "Совсем мелкий ( в рамках ABC анализа отнесли бы их к C) - менее 20 за период"
   ]
  },
  {
   "cell_type": "code",
   "execution_count": 1110,
   "metadata": {},
   "outputs": [
    {
     "data": {
      "text/plain": [
       "15851"
      ]
     },
     "execution_count": 1110,
     "metadata": {},
     "output_type": "execute_result"
    }
   ],
   "source": [
    "df_small_basket = df_Customer_count[df_Customer_count <= 20]\n",
    "df_small_basket.count()"
   ]
  },
  {
   "cell_type": "code",
   "execution_count": 1111,
   "metadata": {},
   "outputs": [],
   "source": [
    "small_list = df_small_basket.keys().tolist()"
   ]
  },
  {
   "cell_type": "code",
   "execution_count": 1112,
   "metadata": {},
   "outputs": [
    {
     "name": "stdout",
     "output_type": "stream",
     "text": [
      "58.236 %  Доля выручки клиентов с малым кол-вом повторных покупок в общем числе\n"
     ]
    }
   ],
   "source": [
    "a = df.groupby('CustomerID').sum().reset_index()\n",
    "small_sum_revenue = a[a['CustomerID'].isin(small_list)].sum()['Revenue']\n",
    "print(round((small_sum_revenue/df['Revenue'].sum()*100),3),'%', ' Доля выручки клиентов с малым кол-вом повторных покупок в общем числе')"
   ]
  },
  {
   "cell_type": "markdown",
   "metadata": {},
   "source": [
    "Очевидно, что куда целесообразнее разделять клиентов по выручке , но данные по соотношению выручка-число заказов могут дать нам информацию о оптимизации затрат на доставку для данных клиентов ( скидка на опт и.т.д)"
   ]
  },
  {
   "cell_type": "markdown",
   "metadata": {},
   "source": [
    "Посмотрим сегменитрование по выручке"
   ]
  },
  {
   "cell_type": "code",
   "execution_count": 1113,
   "metadata": {},
   "outputs": [
    {
     "data": {
      "text/html": [
       "<div>\n",
       "<style scoped>\n",
       "    .dataframe tbody tr th:only-of-type {\n",
       "        vertical-align: middle;\n",
       "    }\n",
       "\n",
       "    .dataframe tbody tr th {\n",
       "        vertical-align: top;\n",
       "    }\n",
       "\n",
       "    .dataframe thead th {\n",
       "        text-align: right;\n",
       "    }\n",
       "</style>\n",
       "<table border=\"1\" class=\"dataframe\">\n",
       "  <thead>\n",
       "    <tr style=\"text-align: right;\">\n",
       "      <th></th>\n",
       "      <th>CustomerID</th>\n",
       "      <th>Revenue</th>\n",
       "    </tr>\n",
       "  </thead>\n",
       "  <tbody>\n",
       "    <tr>\n",
       "      <th>0</th>\n",
       "      <td>18102.0</td>\n",
       "      <td>26533.44</td>\n",
       "    </tr>\n",
       "    <tr>\n",
       "      <th>1</th>\n",
       "      <td>14646.0</td>\n",
       "      <td>25519.16</td>\n",
       "    </tr>\n",
       "    <tr>\n",
       "      <th>2</th>\n",
       "      <td>17450.0</td>\n",
       "      <td>23000.10</td>\n",
       "    </tr>\n",
       "    <tr>\n",
       "      <th>3</th>\n",
       "      <td>12415.0</td>\n",
       "      <td>16102.89</td>\n",
       "    </tr>\n",
       "    <tr>\n",
       "      <th>4</th>\n",
       "      <td>14911.0</td>\n",
       "      <td>15238.45</td>\n",
       "    </tr>\n",
       "    <tr>\n",
       "      <th>5</th>\n",
       "      <td>14156.0</td>\n",
       "      <td>12092.71</td>\n",
       "    </tr>\n",
       "    <tr>\n",
       "      <th>6</th>\n",
       "      <td>17949.0</td>\n",
       "      <td>12048.08</td>\n",
       "    </tr>\n",
       "    <tr>\n",
       "      <th>7</th>\n",
       "      <td>17511.0</td>\n",
       "      <td>9534.21</td>\n",
       "    </tr>\n",
       "    <tr>\n",
       "      <th>8</th>\n",
       "      <td>14096.0</td>\n",
       "      <td>8487.80</td>\n",
       "    </tr>\n",
       "    <tr>\n",
       "      <th>9</th>\n",
       "      <td>15769.0</td>\n",
       "      <td>8129.04</td>\n",
       "    </tr>\n",
       "  </tbody>\n",
       "</table>\n",
       "</div>"
      ],
      "text/plain": [
       "   CustomerID   Revenue\n",
       "0     18102.0  26533.44\n",
       "1     14646.0  25519.16\n",
       "2     17450.0  23000.10\n",
       "3     12415.0  16102.89\n",
       "4     14911.0  15238.45\n",
       "5     14156.0  12092.71\n",
       "6     17949.0  12048.08\n",
       "7     17511.0   9534.21\n",
       "8     14096.0   8487.80\n",
       "9     15769.0   8129.04"
      ]
     },
     "execution_count": 1113,
     "metadata": {},
     "output_type": "execute_result"
    }
   ],
   "source": [
    "df_Reveneu = df.groupby('CustomerID').sum().sort_values('Revenue', ascending = False)['Revenue'].reset_index()\n",
    "df_Reveneu.head(10)"
   ]
  },
  {
   "cell_type": "code",
   "execution_count": 1114,
   "metadata": {},
   "outputs": [
    {
     "data": {
      "text/plain": [
       "[18102.0, 14646.0, 17450.0, 12415.0, 14911.0, 14156.0, 17949.0]"
      ]
     },
     "execution_count": 1114,
     "metadata": {},
     "output_type": "execute_result"
    }
   ],
   "source": [
    "big_revenue = df_Reveneu[df_Reveneu['Revenue'] >= 10000]\n",
    "big_revenue_list = big_revenue['CustomerID'].tolist()\n",
    "big_revenue_list"
   ]
  },
  {
   "cell_type": "code",
   "execution_count": 1115,
   "metadata": {},
   "outputs": [
    {
     "name": "stdout",
     "output_type": "stream",
     "text": [
      "12.359 %  Доля выручки клиентов с большим объемом выручки\n",
      "7  Клиентов делают такую выручку\n"
     ]
    }
   ],
   "source": [
    "a = df.groupby('CustomerID').sum().reset_index()\n",
    "big_sum_revenue = a[a['CustomerID'].isin(big_revenue_list)].sum()['Revenue']\n",
    "print(round((big_sum_revenue/df['Revenue'].sum()*100),3),'%', ' Доля выручки клиентов с большим объемом выручки')\n",
    "print(len(big_revenue_list), ' Клиентов делают такую выручку')"
   ]
  },
  {
   "cell_type": "code",
   "execution_count": 1116,
   "metadata": {},
   "outputs": [],
   "source": [
    "small_revenue = df_Reveneu[df_Reveneu['Revenue'] <= 100]\n",
    "small_revenue_list = small_revenue['CustomerID'].tolist()"
   ]
  },
  {
   "cell_type": "code",
   "execution_count": 1117,
   "metadata": {},
   "outputs": [
    {
     "name": "stdout",
     "output_type": "stream",
     "text": [
      "19.971 %  Доля выручки клиентов с большим объемом выручки\n",
      "14492  Клиентов делают такую выручку\n"
     ]
    }
   ],
   "source": [
    "a = df.groupby('CustomerID').sum().reset_index()\n",
    "small_sum_revenue = a[a['CustomerID'].isin(small_revenue_list)].sum()['Revenue']\n",
    "print(round((small_sum_revenue/df['Revenue'].sum()*100),3),'%', ' Доля выручки клиентов с большим объемом выручки')\n",
    "print(len(small_revenue_list), ' Клиентов делают такую выручку')"
   ]
  },
  {
   "cell_type": "markdown",
   "metadata": {},
   "source": [
    "Анализируя данные о выручке и числе повторных покупок, можно прийти к выводу, что необходимо рассматривать <br>\n",
    "клиентов в разрезе групп, сегментированных по разному принципу <br>\n",
    "> Данные о кол-ве повторных - оптимизация доставки <br>\n",
    "\n",
    "> Данные о выручке - особые условия на опт, удержание клиента и.т.д"
   ]
  },
  {
   "cell_type": "code",
   "execution_count": 1118,
   "metadata": {},
   "outputs": [
    {
     "data": {
      "text/html": [
       "<div>\n",
       "<style scoped>\n",
       "    .dataframe tbody tr th:only-of-type {\n",
       "        vertical-align: middle;\n",
       "    }\n",
       "\n",
       "    .dataframe tbody tr th {\n",
       "        vertical-align: top;\n",
       "    }\n",
       "\n",
       "    .dataframe thead th {\n",
       "        text-align: right;\n",
       "    }\n",
       "</style>\n",
       "<table border=\"1\" class=\"dataframe\">\n",
       "  <thead>\n",
       "    <tr style=\"text-align: right;\">\n",
       "      <th></th>\n",
       "      <th>Quantity</th>\n",
       "      <th>UnitPrice</th>\n",
       "      <th>CustomerID</th>\n",
       "      <th>Revenue</th>\n",
       "    </tr>\n",
       "    <tr>\n",
       "      <th>InvoiceNo</th>\n",
       "      <th></th>\n",
       "      <th></th>\n",
       "      <th></th>\n",
       "      <th></th>\n",
       "    </tr>\n",
       "  </thead>\n",
       "  <tbody>\n",
       "    <tr>\n",
       "      <th>536365</th>\n",
       "      <td>6</td>\n",
       "      <td>3.39</td>\n",
       "      <td>17850.0</td>\n",
       "      <td>20.34</td>\n",
       "    </tr>\n",
       "    <tr>\n",
       "      <th>536367</th>\n",
       "      <td>35</td>\n",
       "      <td>7.64</td>\n",
       "      <td>26094.0</td>\n",
       "      <td>71.93</td>\n",
       "    </tr>\n",
       "    <tr>\n",
       "      <th>536368</th>\n",
       "      <td>3</td>\n",
       "      <td>4.95</td>\n",
       "      <td>13047.0</td>\n",
       "      <td>14.85</td>\n",
       "    </tr>\n",
       "    <tr>\n",
       "      <th>536373</th>\n",
       "      <td>8</td>\n",
       "      <td>2.75</td>\n",
       "      <td>17850.0</td>\n",
       "      <td>22.00</td>\n",
       "    </tr>\n",
       "    <tr>\n",
       "      <th>536375</th>\n",
       "      <td>6</td>\n",
       "      <td>2.55</td>\n",
       "      <td>17850.0</td>\n",
       "      <td>15.30</td>\n",
       "    </tr>\n",
       "  </tbody>\n",
       "</table>\n",
       "</div>"
      ],
      "text/plain": [
       "           Quantity  UnitPrice  CustomerID  Revenue\n",
       "InvoiceNo                                          \n",
       "536365            6       3.39     17850.0    20.34\n",
       "536367           35       7.64     26094.0    71.93\n",
       "536368            3       4.95     13047.0    14.85\n",
       "536373            8       2.75     17850.0    22.00\n",
       "536375            6       2.55     17850.0    15.30"
      ]
     },
     "execution_count": 1118,
     "metadata": {},
     "output_type": "execute_result"
    }
   ],
   "source": [
    "df_InvoiceNo = df.groupby('InvoiceNo').sum()\n",
    "df_InvoiceNo.head()"
   ]
  },
  {
   "cell_type": "code",
   "execution_count": 1119,
   "metadata": {},
   "outputs": [
    {
     "data": {
      "text/plain": [
       "<matplotlib.axes._subplots.AxesSubplot at 0x1460301b780>"
      ]
     },
     "execution_count": 1119,
     "metadata": {},
     "output_type": "execute_result"
    },
    {
     "data": {
      "image/png": "[encoded data removed]",
      "text/plain": [
       "<Figure size 432x288 with 1 Axes>"
      ]
     },
     "metadata": {
      "needs_background": "light"
     },
     "output_type": "display_data"
    }
   ],
   "source": [
    "df_InvoiceNo[df_InvoiceNo['Revenue'] <= 100].Revenue.plot.hist()"
   ]
  },
  {
   "cell_type": "markdown",
   "metadata": {},
   "source": [
    "Анализируя график, можно прийти к выводу, что чем меньше выручка по заказу - тем больше подобных заказов <br>\n",
    "Следовательно можно предположить что данные о выручке распределены по экспоненте"
   ]
  },
  {
   "cell_type": "code",
   "execution_count": 1120,
   "metadata": {},
   "outputs": [
    {
     "data": {
      "text/plain": [
       "array(['United Kingdom', 'Australia', 'Netherlands', 'Norway', 'EIRE',\n",
       "       'France', 'Switzerland', 'Spain', 'Germany', 'Poland', 'Italy',\n",
       "       'Belgium', 'Lithuania', 'Japan', 'Portugal', 'Iceland',\n",
       "       'Channel Islands', 'Denmark', 'Cyprus', 'Finland', 'Austria',\n",
       "       'Sweden', 'Israel', 'Greece', 'Hong Kong', 'Singapore', 'Lebanon',\n",
       "       'United Arab Emirates', 'Czech Republic', 'Canada', 'Unspecified',\n",
       "       'Brazil', 'USA', 'European Community', 'Bahrain', 'Malta', 'RSA'],\n",
       "      dtype=object)"
      ]
     },
     "execution_count": 1120,
     "metadata": {},
     "output_type": "execute_result"
    }
   ],
   "source": [
    "pd.unique(df['Country'])"
   ]
  },
  {
   "cell_type": "markdown",
   "metadata": {},
   "source": [
    "Не смотря на то, что это Британская доставка, в датасете присутсвуют и другие страны. <br>\n",
    "Оценим георграфию бизнеса"
   ]
  },
  {
   "cell_type": "code",
   "execution_count": 1121,
   "metadata": {},
   "outputs": [
    {
     "data": {
      "text/plain": [
       "Country\n",
       "United Kingdom          892222.871\n",
       "EIRE                     29008.610\n",
       "Netherlands              26489.180\n",
       "Germany                  23706.160\n",
       "France                   19811.480\n",
       "Australia                17156.590\n",
       "Switzerland               6215.900\n",
       "Spain                     5971.220\n",
       "Sweden                    4936.520\n",
       "Belgium                   4066.660\n",
       "Portugal                  4000.070\n",
       "Norway                    3859.900\n",
       "Channel Islands           2877.950\n",
       "Japan                     2164.180\n",
       "Denmark                   2058.840\n",
       "Finland                   2040.600\n",
       "Italy                     1475.470\n",
       "Cyprus                    1057.950\n",
       "Austria                   1036.270\n",
       "Poland                     911.590\n",
       "Singapore                  883.080\n",
       "Hong Kong                  879.010\n",
       "Israel                     531.720\n",
       "Unspecified                520.220\n",
       "Greece                     490.820\n",
       "Lithuania                  291.600\n",
       "USA                        290.940\n",
       "Malta                      287.900\n",
       "Iceland                    271.790\n",
       "Canada                     214.140\n",
       "United Arab Emirates        96.420\n",
       "Czech Republic              82.200\n",
       "European Community          80.900\n",
       "Brazil                      79.800\n",
       "RSA                         42.140\n",
       "Lebanon                     39.600\n",
       "Bahrain                     17.700\n",
       "Name: Revenue, dtype: float64"
      ]
     },
     "execution_count": 1121,
     "metadata": {},
     "output_type": "execute_result"
    }
   ],
   "source": [
    "df_country= df.groupby('Country').sum().sort_values('Revenue', ascending = False)['Revenue']\n",
    "df_country"
   ]
  },
  {
   "cell_type": "markdown",
   "metadata": {},
   "source": [
    "Очевидно, что на Великобританию приходится большая часть выручки, но нам интересно посмотреть другие страны <br>\n",
    "Уберем Великобританию из списка"
   ]
  },
  {
   "cell_type": "code",
   "execution_count": 1122,
   "metadata": {},
   "outputs": [
    {
     "data": {
      "text/plain": [
       "Country\n",
       "EIRE                    29008.61\n",
       "Netherlands             26489.18\n",
       "Germany                 23706.16\n",
       "France                  19811.48\n",
       "Australia               17156.59\n",
       "Switzerland              6215.90\n",
       "Spain                    5971.22\n",
       "Sweden                   4936.52\n",
       "Belgium                  4066.66\n",
       "Portugal                 4000.07\n",
       "Norway                   3859.90\n",
       "Channel Islands          2877.95\n",
       "Japan                    2164.18\n",
       "Denmark                  2058.84\n",
       "Finland                  2040.60\n",
       "Italy                    1475.47\n",
       "Cyprus                   1057.95\n",
       "Austria                  1036.27\n",
       "Poland                    911.59\n",
       "Singapore                 883.08\n",
       "Hong Kong                 879.01\n",
       "Israel                    531.72\n",
       "Unspecified               520.22\n",
       "Greece                    490.82\n",
       "Lithuania                 291.60\n",
       "USA                       290.94\n",
       "Malta                     287.90\n",
       "Iceland                   271.79\n",
       "Canada                    214.14\n",
       "United Arab Emirates       96.42\n",
       "Czech Republic             82.20\n",
       "European Community         80.90\n",
       "Brazil                     79.80\n",
       "RSA                        42.14\n",
       "Lebanon                    39.60\n",
       "Bahrain                    17.70\n",
       "Name: Revenue, dtype: float64"
      ]
     },
     "execution_count": 1122,
     "metadata": {},
     "output_type": "execute_result"
    }
   ],
   "source": [
    "df_country_other = df_country[df_country <= 80000]\n",
    "df_country_other"
   ]
  },
  {
   "cell_type": "code",
   "execution_count": 1123,
   "metadata": {},
   "outputs": [
    {
     "data": {
      "image/png": "[encoded data removed]",
      "text/plain": [
       "<Figure size 1440x1440 with 1 Axes>"
      ]
     },
     "metadata": {},
     "output_type": "display_data"
    }
   ],
   "source": [
    "rcParams['figure.figsize'] = 20, 20\n",
    "plt.pie(df_country_other,labels = df_country_other.keys())\n",
    "plt.show()"
   ]
  },
  {
   "cell_type": "markdown",
   "metadata": {},
   "source": [
    "Оценив топ-5 по выручке, возможно выстроить стратегию по расширению влияния на этих рынках"
   ]
  },
  {
   "cell_type": "code",
   "execution_count": 1124,
   "metadata": {},
   "outputs": [],
   "source": [
    "df_StockCode = df.groupby('StockCode').sum().sort_values('Revenue', ascending = False)['Revenue']"
   ]
  },
  {
   "cell_type": "markdown",
   "metadata": {},
   "source": [
    "В датасете присутсвует код акции. Детализации что за этим стоит нет, <br> \n",
    "но предположительно это какие то особые условия на товар. Посмотрим какие акции принесли больше всего выручки"
   ]
  },
  {
   "cell_type": "code",
   "execution_count": 1125,
   "metadata": {},
   "outputs": [
    {
     "data": {
      "text/plain": [
       "StockCode\n",
       "DOT       20607.25\n",
       "22423     17135.00\n",
       "85099B    10092.03\n",
       "85123A     9609.59\n",
       "47566      7412.36\n",
       "POST       7189.16\n",
       "84879      6975.59\n",
       "22386      5794.93\n",
       "22086      5714.65\n",
       "M          5601.25\n",
       "79321      5501.53\n",
       "22470      5393.93\n",
       "23203      5312.76\n",
       "82484      5003.81\n",
       "23173      4998.73\n",
       "22727      4821.86\n",
       "22413      4648.72\n",
       "23344      4621.52\n",
       "23201      4618.84\n",
       "23199      4318.38\n",
       "Name: Revenue, dtype: float64"
      ]
     },
     "execution_count": 1125,
     "metadata": {},
     "output_type": "execute_result"
    }
   ],
   "source": [
    "df_StockCode[:20]"
   ]
  },
  {
   "cell_type": "markdown",
   "metadata": {},
   "source": [
    "Откровенно говоря, эти данные слабо релевантны <br> \n",
    "Для оценки эффективности акции хорошо бы еще посмотреть затраты. Возможно ни одна из них не выгодна экономически для нас <br>\n",
    "Возможно цель была не в получении прибыли, а привлечении пользователей. Судить об этом пока что сложно\n",
    "Но эти данные можно использовать для оценки поведения пользователя и спросе на определенные товары ( либо на условия акции)"
   ]
  },
  {
   "cell_type": "code",
   "execution_count": 1126,
   "metadata": {},
   "outputs": [
    {
     "data": {
      "text/html": [
       "<div>\n",
       "<style scoped>\n",
       "    .dataframe tbody tr th:only-of-type {\n",
       "        vertical-align: middle;\n",
       "    }\n",
       "\n",
       "    .dataframe tbody tr th {\n",
       "        vertical-align: top;\n",
       "    }\n",
       "\n",
       "    .dataframe thead th {\n",
       "        text-align: right;\n",
       "    }\n",
       "</style>\n",
       "<table border=\"1\" class=\"dataframe\">\n",
       "  <thead>\n",
       "    <tr style=\"text-align: right;\">\n",
       "      <th></th>\n",
       "      <th>Quantity</th>\n",
       "      <th>Revenue</th>\n",
       "    </tr>\n",
       "    <tr>\n",
       "      <th>InvoiceNo</th>\n",
       "      <th></th>\n",
       "      <th></th>\n",
       "    </tr>\n",
       "  </thead>\n",
       "  <tbody>\n",
       "    <tr>\n",
       "      <th>540689</th>\n",
       "      <td>1284.0</td>\n",
       "      <td>4121.64</td>\n",
       "    </tr>\n",
       "    <tr>\n",
       "      <th>581115</th>\n",
       "      <td>1404.0</td>\n",
       "      <td>3861.00</td>\n",
       "    </tr>\n",
       "    <tr>\n",
       "      <th>556725</th>\n",
       "      <td>200.0</td>\n",
       "      <td>2496.00</td>\n",
       "    </tr>\n",
       "    <tr>\n",
       "      <th>574294</th>\n",
       "      <td>2100.0</td>\n",
       "      <td>2226.00</td>\n",
       "    </tr>\n",
       "    <tr>\n",
       "      <th>554366</th>\n",
       "      <td>888.0</td>\n",
       "      <td>2131.20</td>\n",
       "    </tr>\n",
       "  </tbody>\n",
       "</table>\n",
       "</div>"
      ],
      "text/plain": [
       "           Quantity  Revenue\n",
       "InvoiceNo                   \n",
       "540689       1284.0  4121.64\n",
       "581115       1404.0  3861.00\n",
       "556725        200.0  2496.00\n",
       "574294       2100.0  2226.00\n",
       "554366        888.0  2131.20"
      ]
     },
     "execution_count": 1126,
     "metadata": {},
     "output_type": "execute_result"
    }
   ],
   "source": [
    "df_InvoiceNo = df.groupby('InvoiceNo').mean()[['Quantity','Revenue']].sort_values('Revenue', ascending = False)\n",
    "df_InvoiceNo.head()"
   ]
  },
  {
   "cell_type": "code",
   "execution_count": 1127,
   "metadata": {},
   "outputs": [
    {
     "name": "stdout",
     "output_type": "stream",
     "text": [
      "16.463 % - Доля выручки клиентов, по которым нет данных\n"
     ]
    }
   ],
   "source": [
    "print(round((df[df['CustomerID']>100000].sum()['Revenue']/df['Revenue'].sum())*100,3),'%', '- Доля выручки клиентов, по которым нет данных')"
   ]
  },
  {
   "cell_type": "markdown",
   "metadata": {},
   "source": [
    "Опираясь на эти данные, можно прийти к выводу, что немногим больше 16% выручки нам приносят \"неизвестно кто\" <br>\n",
    "Получив данные по клиентам, мы могли бы детальней проанализировать их потребности и вывести на повторную покупку"
   ]
  },
  {
   "cell_type": "markdown",
   "metadata": {},
   "source": [
    "Далее, на основании этих данных построим дэшборд с ключевыми метриками"
   ]
  },
  {
   "cell_type": "code",
   "execution_count": 1130,
   "metadata": {},
   "outputs": [],
   "source": [
    "df.to_excel(\"DF.xlsx\") "
   ]
  }
 ],
 "metadata": {
  "kernelspec": {
   "display_name": "Python 3",
   "language": "python",
   "name": "python3"
  },
  "language_info": {
   "codemirror_mode": {
    "name": "ipython",
    "version": 3
   },
   "file_extension": ".py",
   "mimetype": "text/x-python",
   "name": "python",
   "nbconvert_exporter": "python",
   "pygments_lexer": "ipython3",
   "version": "3.7.3"
  }
 },
 "nbformat": 4,
 "nbformat_minor": 2
}
