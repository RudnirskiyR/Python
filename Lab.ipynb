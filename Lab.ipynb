{
 "cells": [
  {
   "cell_type": "markdown",
   "metadata": {},
   "source": [
    "## 1.1"
   ]
  },
  {
   "cell_type": "markdown",
   "metadata": {},
   "source": [
    " Дан произвольный список, содержащий только числа. Выведите результат сложения всех чисел больше 10. "
   ]
  },
  {
   "cell_type": "code",
   "execution_count": 5,
   "metadata": {},
   "outputs": [],
   "source": [
    "from random import randint"
   ]
  },
  {
   "cell_type": "code",
   "execution_count": 163,
   "metadata": {},
   "outputs": [
    {
     "data": {
      "text/plain": [
       "[72, 76, 70, 75, 40, 16, 16, 14, 60, 58]"
      ]
     },
     "execution_count": 163,
     "metadata": {},
     "output_type": "execute_result"
    }
   ],
   "source": [
    "list_ = []\n",
    "\n",
    "for i in range(100):\n",
    "    list_.append(randint(0 , 100))\n",
    "    \n",
    "list_[0:10]"
   ]
  },
  {
   "cell_type": "code",
   "execution_count": 14,
   "metadata": {},
   "outputs": [
    {
     "name": "stdout",
     "output_type": "stream",
     "text": [
      "4486\n"
     ]
    }
   ],
   "source": [
    "sum_10_more = []\n",
    "for i in list_:\n",
    "    if i > 10:\n",
    "        sum_10_more.append(i)\n",
    "print(sum(sum_10_more))\n"
   ]
  },
  {
   "cell_type": "markdown",
   "metadata": {},
   "source": [
    "## 1.2"
   ]
  },
  {
   "cell_type": "markdown",
   "metadata": {},
   "source": [
    " Пусть задан список, содержащий строки. Выведите все строки, заканчивающиеся буквой r."
   ]
  },
  {
   "cell_type": "code",
   "execution_count": 127,
   "metadata": {},
   "outputs": [],
   "source": [
    "def words_generator(n):\n",
    "    list_ = []\n",
    "    import random, string\n",
    "\n",
    "    for i in range (n):\n",
    "        letters = string.ascii_lowercase\n",
    "        word = ''.join(random.choice(letters) for i in range(10))\n",
    "        if i < 10000:\n",
    "            i +=1\n",
    "            list_.append(word)\n",
    "            str_ = str(list_)\n",
    "    return str_"
   ]
  },
  {
   "cell_type": "code",
   "execution_count": 148,
   "metadata": {},
   "outputs": [
    {
     "data": {
      "text/plain": [
       "\"['nxrfnruize', 'fjvnolehps', 'jaouuaxkjq', 'kpowtynsol', 'jrdnqhuyqs', 'kyxmznoodf', 'ykcrlkancs', 'ocgwwcnpbv', 'tpbwsqwjwd', 'ythyliakos', 'djzraqtlqv', 'hszddgkhjr', 'yctffvxnsu', 'zemaqdyxec', 'cfsazrobia', 'dzmrhjitho', 'fjsnruegpq', 'orwvymhqjw', 'dbsxjghozz', 'nxtgmltzmh', 'nnfwmsivrg', 'znutujezqw', 'lhaurntdnv', 'pkaontnard', 'qnyruxnlov', 'xgvtfimmkl', 'cfczijatgj', 'srbjnmnknt', 'gikclvjwob', 'cyshkvqglr', 'cxnlgdgzlh', 'geykagmzag', 'kdwumsmbxv', 'pewtzaiezg', 'ubidbqdimc', 'cbcloubavr', 'eptdevouez', 'fkyuzeruwi', 'lqxsdzyvrx', 'yhvoelnzyz', 'lwggwgpbjm', 'kwiqkeyuaj', 'raqytdxqtq', 'xxavlsrqdc', 'nrpgmwyqyz', 'eiduuuzsvt', 'vhtvrumkqw', 'xppjfkcefp', 'tcfmoypqja', 'avepqbcjrt', 'rveipkdqaz', 'hwruiraimg', 'zgcwrdpezj', 'tlclroeouv', 'tsawbbmjzq', 'cvqnqbhsje', 'ifmkasoafd', 'cbohowjcgd', 'whpvpwypbj', 'jzuzeehdwi', 'ufxuembjsh', 'glpikigmuq', 'utmrblkzzj', 'ahibqsrznc', 'lottpcceyx', 'mfjhrmdgia', 'jbmkonkiig', 'akjdwyhztt', 'qlxvwexsxp', 'lenhrrzaoq', 'udrygmumeb', 'smlszonnkn', 'rgjmepardz', 'wzxtznduiw', 'hicatgrfbc', 'qoojgsartl', 'ramgdogtpl', 'pwmeouqttx', 'faecdydeeu', 'ntzqmkmcyw', 'xfahtftznd', 'enxiirrttx', 'ynsrdjuiny', 'pnqpqwouau', 'pvwdxcgdiq', 'marmdqszaj', 'cieorypobs', 'ogdtbgmfgv', 'lzjqvvxhgf', 'lntfselfzs', 'hljphyzqzq', 'wjfghpyjcf', 'bzqwcfcmqc', 'drbjqzzbxm', 'hgqzywrpcx', 'bgxlfnxrpp', 'gryxfqrmyr', 'pzasztjfmw', 'hlugmxgokl', 'gxruseehoa', 'nlbryxtpiu', 'jfrowfedkf', 'uyhwgzojty', 'xgzsqpmddl', 'gxriwrlhcq', 'ufuirfwfgd', 'ypruennkgc', 'bkiumajpcj', 'zdmxvwhjoe', 'ddwnfiqczv', 'gkubbliepi', 'azymqfzghf', 'hhwgpvoxcg', 'sjymkqvktv', 'byinucbqta', 'anuaqgklsr', 'xliszmvfci', 'ixewxjjptp', 'rbhczrctky', 'gkltsedvmy', 'kcdvohuuad', 'ncluhshdjs', 'hgswpiygny', 'dlcxrkvieo', 'mbasxouhha', 'bhpiwzbbxb', 'uaqgnondhw', 'jxjjlsifma', 'jnwpphyfzf', 'oqkwwsnsac', 'dievxvmzyc', 'necbzieuzc', 'tuvmevrwbq', 'lhnjhcyplx', 'qctcuouyxg', 'geipggtugf', 'xsqtferdcw', 'khsdydvjuo', 'sbolxygnzu', 'bixfvgliec', 'vykcbcgliy', 'lxuftxzcsm', 'woetddfqst', 'xzpgqtycbp', 'lmvmnbrogi', 'ungkmlwyre', 'yiwywbpoxg', 'kbdmhnfcny', 'jypclwahbc', 'qoxilngspc', 'eqwncbeemh', 'ydkvcgukkd', 'czkgqrfqbs', 'kmuyuswtom', 'qxrmfiobin', 'tvgxsjceyv', 'ruhmydbhxo', 'jwqsgrwdrj', 'ogwcvnlfbo', 'zzhigqqfmt', 'wanmtnclqe', 'csrlmizdeb', 'tnczbttncs', 'zqnqjcaeey', 'pcaetycmcg', 'fheovcwrzi', 'kxjuzhctks', 'fofsoxioiw', 'iydigoeivx', 'czsipbqvxy', 'fhmmugxuhz', 'thwawaqauc', 'liapyeyzlw', 'kdjhnbjhyw', 'qkhwclfybq', 'apiqgmcgiq', 'kkspmldbni', 'npknrwmhga', 'rfpconrmbc', 'bpnobywnvc', 'wfcbnnkvai', 'ucwlyesaol', 'nuotjkpxrf', 'zlfvoevlax', 'gprvhuihdj', 'dojrpuxqxp', 'svckuqktui', 'jqtsxynlox', 'thiojcbrby', 'kdydhdoaqs', 'otwhgwxzda', 'roiksxdvqs', 'podztbwbyn', 'svxtvtlucw', 'iujverqkdp', 'nummvexplh', 'akrvxbhror', 'dhpcasmvvs', 'dzcfgekngm', 'npwnnurdgp', 'uslufupxmc', 'npzxajuqgu', 'fbnqyvotbp', 'fofxghedau', 'qgdoewlsjv', 'ejbkwmayiz', 'ghesakjxcn', 'jymssyvqwt', 'qtlbjashce', 'mqqhsrpvpm', 'qjzffaccmr', 'rbdbgfnpaj', 'lbhdfrehpe', 'xyszfjzyna', 'dzuhbofzgf', 'whkrbfjizw', 'narpsdlwzd', 'tngcxisxwc', 'vaafbwseiq', 'yniqxucrkf', 'pbktajoheb', 'fskxblorxz', 'bspulxmbpu', 'geqsumzosg', 'noiroxgkzh', 'udtahpxbjs', 'uijtoybluq', 'wcyuvmdpbh', 'rxvwjobxvt', 'kcwdlkyver', 'qtymfvlhwl', 'pikdgltbgp', 'ipvhwfrjgh', 'mwrnzokxen', 'gyezxlxkfv', 'chftlffnql', 'ihwnxexfxs', 'uqcstukhap', 'jnalwxxuui', 'txzjpamvzb', 'gfuizucbxe', 'sfvgzpymdk', 'sluzuxyhmx', 'lgxznsjhok', 'cowbqziexd', 'ybvkfmolxt', 'eaeexjrlke', 'yonxlfhcwn', 'ljuwwmusei', 'bgkcdduael', 'bwstqsuojp', 'mqprphotun', 'dquadevtkk', 'eygoypikmc', 'lyfmrmzpdm', 'cpkkwdffqf', 'bpmcgyzzts', 'bwfvtlijst', 'nxlnfmadjm', 'svtchfjcdf', 'wpdwoxsemv', 'jgnyfxqnbk', 'fxpcmtxafg', 'vvnkvdrnbl', 'jcavqeqglk', 'ccwntmkumg', 'gwtwotuiwx', 'eyvrhfercl', 'tmghuiousb', 'fhbamayeff', 'mqetjmqwbw', 'dkoiouydym', 'zhmqlnjmak', 'scvqgekbow', 'rfvclojtfy', 'hquhovwlug', 'jsnwcvzibb', 'pyoztkbxqt', 'rkvsnpszly', 'nprcwhpdnq', 'ctdfgzkcvf', 'rqsphmfqvy', 'hzyxzyehgy', 'nkzwadujqa', 'uyxlobckxy', 'lnkrfsmvdd', 'nupftyxioq', 'psfwdkcwoc', 'jofxsqecbn', 'gjxdzwkone', 'tdvsabtvlr', 'pmwralnaus', 'legrrltxdp', 'fyarzzdjtd', 'bxswqvpbuh', 'pirqefaupz', 'qdwawrytqo', 'kfjbrjsksz', 'tqowzeuhnx', 'wppdfzxulp', 'dhcgwdmgat', 'hzwrycddyc', 'abujjvaqfh', 'esjibyizzp', 'kolecpacqh', 'swpaxaugys', 'cihwbuhywi', 'dwrbiyacha', 'qpzmdvfyjf', 'pradtvyetl', 'jwmnbzvdfe', 'jbvrsiommg', 'jaweqaxjfg', 'zctodaiepv', 'smzmtsbhxr', 'kwfjokgbxq', 'defphdozgm', 'bikahvrzjd', 'qxthvdpbxr', 'qswiytkeln', 'qsaswvbjgt', 'rvwwefohpf', 'appxjhnphi', 'dtggztjkgk', 'dwccvagnje', 'jksajcbqfj', 'clwxzdiwpz', 'skigbdtbly', 'bbgagvmqos', 'lwfnqbvtum', 'uqyhgxvhym', 'dpkjdrmitm', 'gdugngirsd', 'wbbjxifanv', 'iuccvkcvyw', 'dhcqnwvvrp', 'mnsmoyzzrb', 'xoiiifctiy', 'ecwqqkkxkq', 'cxwapdflhr', 'pmipuuvlpx', 'cvaxylxpqx', 'ogrxyieobf', 'tonjpdzxri', 'jllivpohjm', 'meghorlitx', 'uljzywxxuw', 'ehcgxhdfxf', 'fovubqpfuk', 'mgthdiyvyb', 'xtlnbsvuli', 'rzpclnarid', 'hmojzunexr', 'atjssfkawe', 'vyuhgpskvk', 'coehrjzcim', 'sfeqtuntgr', 'asjkxvghkj', 'xcbufqupru', 'gmxgmsiwqj', 'eeawrmwjfb', 'jbybwbieav', 'ljgnovolht', 'pwfdkniqaz', 'fjqakvazfm', 'dbgbrccdal', 'jcnomrcsog', 'ejxwlqhwws', 'ikxejrmybs', 'sjlouqfbzj', 'eapyslcvoo', 'kdilusqbvc', 'xuwoyrxwuj', 'xhopiesnab', 'ffapbidoss', 'dvypmmkosf', 'zmggmwuxbl', 'twzogqchel', 'fjprjalffj', 'kibtysvyzh', 'nrfonvwcwn', 'lnzfwlavtb', 'pzjqluwprb', 'wbezkjuqvf', 'ajarkighqw', 'nhsmxhzugw', 'rftubhtxgf', 'meomoikidn', 'ymektiarfj', 'nbdildffez', 'wkgiqjkhba', 'flihknghly', 'ynpmnyphxz', 'oikegzhnwy', 'ppsqcgussn', 'dedhrsuqvt', 'hpkregruto', 'fmuxmrwkyg', 'ntqphwltck', 'imwbgqlrhx', 'mdbhqamdok', 'dyzjkikmga', 'madaxjunin', 'zwssbxxzfc', 'fvfzaewncv', 'enxyjshnki', 'vdlcwnwdva', 'btjgknypvm', 'iprxymxjhk', 'undtjjfvcd', 'jtxkuzvswb', 'wfngmmdcvv', 'svsloknjih', 'yjbvdycqht', 'cgsbozmpnl', 'bzwgdqfpnf', 'lxcdnsvkqr', 'bkebzgukee', 'uzjurvkvnk', 'jjxwfqsujq', 'djrhuomyot', 'tonhdjggmv', 'pulagnoqhb', 'hfytahiyde', 'eiabdfjeic', 'aevdtelssd', 'gxkluykipr', 'zfpuphqeqr', 'txqirlhfdk', 'fxrioezdok', 'ywdhirinkl', 'xytpcyiuss', 'ztbsxxqkal', 'abdmyxliux', 'fsmoykowjk', 'jxhlmorvff', 'pagnmnxzuq', 'asrsifcqmg', 'droqtgxhpz', 'lxdvjccmtn', 'iobxtvokbu', 'eggdolxdmo', 'jzwpdpaygl', 'ypwhltjivm', 'aawviygbui', 'snyrbfiidb', 'hoqrssfnxx', 'qrsleuokyd', 'fcbheggjyx', 'hhtpbpsind', 'zkvuzhouiw', 'gfaievfbwd', 'rcsryhrfky', 'fodsvpdyeu', 'cebsjrofmm', 'dylzrkxwfd', 'txtcueqmyk', 'dlbnkyvehj', 'poajueyhmh', 'cbjikfnjix', 'lpikcqxbqw', 'kgespykyvj', 'nmnumzblrl', 'xbyptcmxjt', 'qtkzjuefyl', 'jjffsjhbfx', 'vysntwzgqg', 'sbhrfqfamb', 'mrkdwofoik', 'pyquvmyblq', 'rlmzrzmuzy', 'pvlzvwlrnm', 'lqhjkctuxa', 'gomqmypnoq', 'gbuqjfcvmo', 'pgayaxbxrm', 'wsqafhidac', 'tqgtitrffw', 'ytflngvrbw', 'pnlilnefvr', 'rjxyfqsjcp', 'fiocwuqrre', 'bxdieusoud', 'kmidmuyzgv', 'scrwsbymcv', 'rssvqjhcbj', 'oyygaaqwyk', 'otuphaxosv', 'sycyshcuuj', 'hwfgmxjsdv', 'lqnhdqabkf', 'ofsftsezki', 'achcwrdjxk', 'rrmjxjfobc', 'geznowqfex', 'bnmtylgwtw', 'dvipeilhfo', 'ezlqpzzget', 'pvaoljpywg', 'uhngpswqiw', 'yshjcfkdhx', 'oguudntstf', 'wqarypbloa', 'aertkxwfwm', 'qltyjginfc', 'hmrolzwypq', 'doxdffigqx', 'qqgazhzyzu', 'hgcdmhurjo', 'lutavmoyhb', 'wwpmotvmkx', 'kyirvquntj', 'jkwftrjmrn', 'ewxefgypsd', 'ufnduwmpum', 'pqxegdouko', 'kybhbwmnfm', 'ecffgrmpli', 'ulsfpvvzjg', 'lknduvshgp', 'uxnaxtyybt', 'rxktckocvw', 'dymlrhcnjy', 'qoctcgekjp', 'zsxokzkktx', 'cnvzkfdvhi', 'oluvwbqkut', 'mehhcpilro', 'qmsstrmscr', 'flypeecubp', 'efhgztqpkf', 'bowdjhgpbq', 'bqnpeeialg', 'slzjmeahrn', 'esonanpsld', 'svbvuhicgk', 'xurhsoqdqt', 'qpfbxjdmxt', 'zydqstyzkg', 'mlhuqxlsiz', 'vpygatfyct', 'tzintdmags', 'zzadqfviiq', 'dadluiupfk', 'jmfagbxiyf', 'zrjffooivb', 'ffbktgsjgk', 'czmyecbyhq', 'adghbotoku', 'tfvzrtbhbk', 'llyioistcj', 'qrkhpnhqkk', 'ltfbhluiap', 'xljafiuedr', 'gqcmrzurzu', 'hjyvdcuxjm', 'tsutpxyegs', 'ezpzcjndny', 'ujvnzxqlhh', 'nrstbaphfh', 'rpqrdmfeud', 'rccrywvqyt', 'xshkjgnima', 'hcnnyrhjlw', 'mlyiawsiec', 'ecqcyxexqn', 'eiohfhblag', 'zwhkpiygmr', 'ftffrylkmk', 'qjbdbmongs', 'ssrjtfstaw', 'aejarbmplv', 'ifymotgzzg', 'zlzlpdwdqe', 'wjixnurfsw', 'jdpuujopmx', 'bygpmsmopm', 'yiknlcneje', 'mqtznqgesj', 'ubomccjujb', 'wixwuknnrz', 'dqcgwgwdqa', 'fnhjpzkxvn', 'xduqxdujij', 'otffmtcdnu', 'pqcaqgsdnv', 'iuujtesaac', 'iwupiwkexn', 'oibeqiwbtq', 'aeupufuigj', 'owgdpnnlju', 'ztvxdspprr', 'rhdzxfjeye', 'ykwaksihqe', 'rkvovwwtrg', 'lpiblfarsy', 'xbyaeyfpua', 'rqrladuxlc', 'tdjpbdqkfx', 'kiobfpzsbd', 'aoxdoiuvlm', 'xctnlqlwmy', 'scguwblord', 'wydhnzlbyk', 'tkigonmpme', 'qwbeowzwhw', 'vdyunrvtqi', 'ahikegqvwi', 'vdouvyvxee', 'mrrmbqtnud', 'adbsmgobvx', 'ihmzbynhci', 'djggzovfyc', 'jorqddgeai', 'fezizgobjz', 'upcpkpgtjk', 'qlqwwsfcbq', 'jvmnhdtqlf', 'chtenrvgkx', 'dhavfrrcwb', 'orncqkgndq', 'kgncqeolxm', 'gjhbrpbgtn', 'rqfbofuovq', 'aztpmfzuqf', 'vzrwdlgolq', 'iseylcvoeh', 'zztgquomxj', 'ozdtarngxt', 'unvemxiysr', 'oqaflsqtsq', 'qthdrrvwtg', 'fmcvyfdovs', 'rqtusxqwiu', 'dmntqdkosr', 'bhsizjqicy', 'teesxrkbcf', 'uvgyoxffrn', 'ikdkyevelb', 'crnlttorll', 'eonwuyykjr', 'rxodzyokef', 'njlxwajpcc', 'wreulimsdl', 'flbdhyrxqr', 'plmqqgdlsm', 'rmqiudzuxf', 'uvbdmeolhx', 'bwvvnqjmpo', 'xvlyqcmxhh', 'tbbktvmone', 'sjrradxaoe', 'cpthfxxdaq', 'iyfmaobrzy', 'cwkthduocd', 'ypebvvucgr', 'iwbbkebkci', 'mpwtzzbpjg', 'flrsvnsfhf', 'lxulogdudh', 'qmpjvjaffl', 'uzsaonhjpp', 'skvlmvdyss', 'zecsoslthp', 'vgibandasd', 'fvjretqsbs', 'kxxxqeeduw', 'xaqgxtquxs', 'cpmdnwosfk', 'ahqzmlgfhk', 'cjtfsgvlok', 'qjoulcuoua', 'diasbbvlap', 'vjeptxtjmt', 'jmpcvpmebu', 'vmdzvbhpkp', 'nfiuojxakt', 'kqadhvsufi', 'vleqsaketn', 'yimjuedtaf', 'uqzgirtqqg', 'uexzvhtxds', 'okjmncoqvd', 'zxrbeajuno', 'nenagvaxnc', 'ggnmwzwdcg', 'slhnvsyfbd', 'pijmnulufv', 'jrmqtyoiyy', 'sjjpmtujjc', 'zniuvivupe', 'cfgewjhpxe', 'xkgtmjtzue', 'ateoloyujw', 'usrmrlbjiy', 'bgaldgrsca', 'jlqhpeudnf', 'sefjhryjod', 'dekuoctzlz', 'hyqgnyuwkh', 'bfoxeasypt', 'ovramszcwy', 'nuktsbmytk', 'fdnrdntygo', 'nuwymycewn', 'sxafirvrhl', 'zxkbdoynis', 'fnfojkmkzf', 'ceuwwhqpzt', 'zniltrilzf', 'onuogshqxz', 'uzjqrmbgyq', 'olsryrimmc', 'ioidugbvki', 'yglvysaczx', 'mopjlgqiuv', 'fgavmrbpim', 'hgqbbdwkac', 'ibiupxbrai', 'dqjhmbyrgk', 'zdsfxtjfbh', 'fqffhlkdsp', 'jkgkiglhim', 'faruinvguv', 'hhmylznzjp', 'druyhznjfb', 'kkppvhgfwd', 'rokgqpnzqb', 'movejdwiev', 'gqlmracsmh', 'kptqpfzoeq', 'oxpsgojpbw', 'tljwjbvxua', 'dicacuotsx', 'btblutbvvi', 'rxjrjlcfpo', 'tjuxgzferb', 'wcnsvzgavk', 'pojlbalfws', 'zsbqejbjdh', 'vollnsnufh', 'nocfuhdymv', 'iwiqnwofyh', 'hafkapcfcu', 'inwsiluamg', 'qtlarbgyjb', 'jniofrdfjl', 'hbkljwsetu', 'cqwhkczztc', 'iyspwvfixf', 'pcankhgocl', 'xvxvobanrc', 'tpqfplrvkf', 'ldqjxggviz', 'udxigibvoh', 'kpqkpukrch', 'mhfmgmllfk', 'emibpkqyvi', 'frulwpuogi', 'xlmmxiymrw', 'iariaugbxk', 'pzxzsihrjo', 'ymfznhluug', 'kghverkgmu', 'lghqpeukxs', 'yjofjfmgow', 'txowtsoukf', 'fmvkidvolq', 'xbehgyxkwx', 'smexldtbto', 'emiohftigw', 'jkfljdtqis', 'ciwetzibxt', 'feewbuyorw', 'zsdvxclihz', 'czkjwgrzkl', 'uvlrcywuxt', 'anfbyqnkyw', 'nzsskvcbwr', 'dkxiaxigrz', 'nfwcwzkteb', 'ithlewyrxr', 'louhfmasea', 'itzmyackiw', 'dmoizscmsh', 'uovlalmjpf', 'pyzjqmfpfp', 'emohksaigf', 'iegxukuhdu', 'ftqvvaqdsw', 'lujatslrpb', 'avuazksmkc', 'fhtrovodrm', 'exjmnbtoeg', 'srbywxfafb', 'uoisjxbaed', 'hflkodshit', 'uowqlqynba', 'thvbblbkar', 'tkenrdyrtq', 'tepzuefkcr', 'sohmmviuqe', 'ywsgiicfcq', 'vktkjtlbdb', 'eepexyeldu', 'nlrjdhbdyq', 'mlxlruncjj', 'hhcsfqjcof', 'knqsjpjzxr', 'oowycmaols', 'ftjiawtsyr', 'mlbsfwnsrg', 'hjjldlggjd', 'axtxjwurwn', 'snwaqaokrp', 'ipvehmgeri', 'kaipkzficx', 'ifinsyragx', 'ocgbcgqgjq', 'epzsypooll', 'lcsveginru', 'gyrspulide', 'wioppcqnhf', 'kdkxthazaj', 'dtvwwckvlh', 'teurtlqvjy', 'ztbnmhzewo', 'zvxngmwhzv', 'eioznkodwa', 'jqaruwievb', 'obsfygfxad', 'vzdngncacf', 'tqvlzorlzb', 'scuytiddbm', 'vwvvnhodnl', 'hpghbmacsv', 'rpcoqoytxy', 'slklbsezdq', 'pmabisoype', 'hmmnhyifzz', 'eivjwiqwdq', 'vgvtrugffv', 'jiqcygmmes', 'ntqodhnxrs', 'tzhifqyaln', 'fhppbbztaf', 'rlzbwelxye', 'bkywivuqgm', 'zoxnrmflrb', 'gxqjzxmmck', 'vmgpukshpt', 'hwgaodessx', 'ksbrgluhze', 'vslselgahb', 'eawnmpnnei', 'rjabmaehaa', 'vtfusgyjll', 'daigeswvep', 'arfhtyymay', 'urghmtunyc', 'djiaredarq', 'brurovgofy', 'ixykhgdtup', 'cvthbnalzt', 'esyaodzpfi', 'cupxljwsnv', 'ontgfejcdz', 'yzlamdpxdi', 'vvjltklegg', 'fnnktmanns', 'nfpgnprpsg', 'gtolpertot', 'oyyikxdpdn', 'yojkqqfqex', 'sbecuaaftu', 'hdrjqqfwti', 'zojdldjqia', 'fdpeqcqoyy', 'hahkuywzgx', 'wocnnmgwua', 'yxmgjnzhic', 'mbkifdprow', 'atoxfngfuj', 'iqemjteqzp', 'xlqnkhbmdp', 'qcrpcahoyr', 'snvnrcezup', 'fuiaavtjss', 'otcrlyakna', 'jjvzmlcayl', 'mhtqizvjfk', 'dsxduxfaor', 'zljfxdurar', 'qrblotwxsj', 'jrofwrzetj', 'xawihblrfg', 'bacpkvapbw', 'satvwwzpst', 'dfgschorfs', 'jnvweiadqd', 'xacfoyinqn', 'mslaymhbne', 'bnwmzkkyok', 'yfycfjltnc', 'qcmcvromps', 'bonpyhzhgg', 'fgzahjfkap', 'ysgahoktcv', 'guieifvnqz', 'qqsnwennzr', 'chajdvobtz', 'thehlnhqnw', 'iveyhzixdc', 'jpsvwjxnbx', 'oxvyhzyxhe', 'npeaihczae', 'wctzoneqmm', 'xkxyoeyouj', 'jqsrsikgac', 'wzwhrvwbrx', 'vfpbuulamo', 'cwxizuvuaa', 'ofzlwlamqb', 'hdoashdhfh', 'ablmsfieri', 'gobxpsfrzc', 'wjkivknptv', 'kdwrdnukqp', 'zmrqcdttud', 'nmefavmnis', 'nngiggogkx', 'tvhtncpwta', 'qsmfdrmdas', 'rxzwhngymq', 'kluklvakeg', 'uyughyxaci', 'wkavipfufp', 'dbbmjhepzw', 'ddnjmqabur', 'trujvhszcs', 'mdwhjvuwgb', 'cifwuasuvf', 'ddmcslowfv', 'zmrsdyzotf', 'ozauwggmdw', 'mjrgtqnijj', 'lyoxfwlhtt', 'hchcdnwska', 'zgeuhwbypl', 'wftpgvdvku', 'rgohmyqgey', 'tajfxnksuf', 'mwrkdcfxfz', 'oawqhhlchv', 'auzasznejm', 'dggrstkgiw', 'vesimthpnx', 'yjsswmpjut', 'jnutqmllza', 'hvotegbovr', 'mqvmyykrwi', 'pflubudkep', 'kofgwrwxcw', 'dlsmrglzom', 'tzylqazxlj', 'zavysobfob', 'lbkpvdtmdi', 'ghvijfzhzx', 'insegtrfqv', 'oekqsvgvfc', 'qkbfehkaws', 'qcilnnhobs', 'ojhjzkqvxz', 'piowyddaxy', 'meqjphoqgc', 'djmhopwtdv', 'mypbsatjjq', 'qmkladtauo', 'tsqrjdydbz', 'qusqfkipjm', 'yzitbgznnx', 'ketyzhpvcq', 'qmaxjadlpv', 'rwdacpkzyh', 'yhpeecrsgd', 'xaoxjenouv', 'euusbygpwo', 'myzqgdjjci', 'klieioqxlo', 'acownrzzgz', 'zntbophgam', 'ibyiruhyxk', 'imerdsnsxi', 'wstfkhgzgc', 'msymkswkja', 'xtpbyzevtr', 'jrhojuwwad', 'fvcdgehuiu', 'zqoqhzzqph', 'bcsepqsiwe']\""
      ]
     },
     "execution_count": 148,
     "metadata": {},
     "output_type": "execute_result"
    }
   ],
   "source": [
    "words_generator(1000)"
   ]
  },
  {
   "cell_type": "code",
   "execution_count": 149,
   "metadata": {},
   "outputs": [
    {
     "data": {
      "text/plain": [
       "['hapvmoaamf', 'ewdoffjvuf', 'uuqcbdmehf', 'ycfswyastf', 'kwyfjexocf']"
      ]
     },
     "execution_count": 149,
     "metadata": {},
     "output_type": "execute_result"
    }
   ],
   "source": [
    "result = re.findall(r\"\\b\\w*f\\b\", str_)\n",
    "result"
   ]
  },
  {
   "cell_type": "markdown",
   "metadata": {},
   "source": [
    "string_ = 'Within the text of most pages, there are usuallyf a large number of hypertext links to other pages within the wiki. This form of non-linear navigation is more \"native\" to a wiki than structured/formalized navigation schemes. Users can also create any number of index or table-of-contents pages, with hierarchical categorization or whatever form of organization they like. These may be challenging to maintain \"by hand\", as multiple authors and users may create and delete pages in an ad hoc, unorganizedf manner. Wikis can provide one or more ways to categorize or tag pages to support the maintenance of such index pages. Some wikis, including the original, have a backlink feature, which displays all pages that link to a given page. It is also typically possiblef in a wiki to create links to pages that do not yet exist, as a way to invite others to share what they know about a subject new to the wiki. Wiki users can typically \"tag\" pages with categories or keywords, to make it easier for other users to find the article. For example, a user creating a new article on cold weather cycling might \"tag\" this page under the categories of commuting, winter sports and bicycling. This would make it easier for other users to find the article.'"
   ]
  },
  {
   "cell_type": "code",
   "execution_count": 154,
   "metadata": {},
   "outputs": [],
   "source": [
    "string_ = 'Within the text of most pages, there are usuallyf a large number of hypertext links to other pages within the wiki. This form of non-linear navigation is more \"native\" to a wiki than structured/formalized navigation schemes. Users can also create any number of index or table-of-contents pages, with hierarchical categorization or whatever form of organization they like. These may be challenging to maintain \"by hand\", as multiple authors and users may create and delete pages in an ad hoc, unorganizedf manner. Wikis can provide one or more ways to categorize or tag pages to support the maintenance of such index pages. Some wikis, including the original, have a backlink feature, which displays all pages that link to a given page. It is also typically possiblef in a wiki to create links to pages that do not yet exist, as a way to invite others to share what they know about a subject new to the wiki. Wiki users can typically \"tag\" pages with categories or keywords, to make it easier for other users to find the article. For example, a user creating a new article on cold weather cycling might \"tag\" this page under the categories of commuting, winter sports and bicycling. This would make it easier for other users to find the article.'"
   ]
  },
  {
   "cell_type": "code",
   "execution_count": 155,
   "metadata": {},
   "outputs": [
    {
     "data": {
      "text/plain": [
       "['of',\n",
       " 'usuallyf',\n",
       " 'of',\n",
       " 'of',\n",
       " 'of',\n",
       " 'of',\n",
       " 'of',\n",
       " 'unorganizedf',\n",
       " 'of',\n",
       " 'possiblef',\n",
       " 'of']"
      ]
     },
     "execution_count": 155,
     "metadata": {},
     "output_type": "execute_result"
    }
   ],
   "source": [
    "result1 = re.findall(r\"\\b\\w*f\\b\", string_)\n",
    "result1"
   ]
  },
  {
   "cell_type": "markdown",
   "metadata": {},
   "source": [
    "## 1.3"
   ]
  },
  {
   "cell_type": "markdown",
   "metadata": {},
   "source": [
    "Сгенерируйте и выведите cлучайную строку размером 6 символов, содержащую только цифры. Строка должна содержать хотя\n",
    "бы одну цифру 3."
   ]
  },
  {
   "cell_type": "code",
   "execution_count": 180,
   "metadata": {},
   "outputs": [
    {
     "data": {
      "text/plain": [
       "[3, 10, 5, 5, 9, 5]"
      ]
     },
     "execution_count": 180,
     "metadata": {},
     "output_type": "execute_result"
    }
   ],
   "source": [
    "num_list = []\n",
    "num_list.append(3)\n",
    "for i in range(5):\n",
    "    num_list.append(randint(0 , 10))\n",
    "num_list"
   ]
  },
  {
   "cell_type": "code",
   "execution_count": 186,
   "metadata": {},
   "outputs": [
    {
     "data": {
      "text/plain": [
       "[3, 9, 6, 6, 0, 5]"
      ]
     },
     "execution_count": 186,
     "metadata": {},
     "output_type": "execute_result"
    }
   ],
   "source": [
    "# Загуглил\n",
    "\n",
    "l = [(random.randint(0,9)) for i in range(5)]\n",
    "l.insert(random.randint(0,5), 3)\n",
    "l"
   ]
  },
  {
   "cell_type": "markdown",
   "metadata": {},
   "source": [
    "## 1.4"
   ]
  },
  {
   "cell_type": "markdown",
   "metadata": {},
   "source": [
    "Пусть   дана строка произвольной длины. Выведите информацию о том,сколько в ней символов и сколько слов"
   ]
  },
  {
   "cell_type": "code",
   "execution_count": 189,
   "metadata": {},
   "outputs": [],
   "source": [
    "string_ = 'Within the text of most pages, there are usuallyf a large number of hypertext links to other pages within the wiki. This form of non-linear navigation is more \"native\" to a wiki than structured/formalized navigation schemes. Users can also create any number of index or table-of-contents pages, with hierarchical categorization or whatever form of organization they like. These may be challenging to maintain \"by hand\", as multiple authors and users may create and delete pages in an ad hoc, unorganizedf manner. Wikis can provide one or more ways to categorize or tag pages to support the maintenance of such index pages. Some wikis, including the original, have a backlink feature, which displays all pages that link to a given page. It is also typically possiblef in a wiki to create links to pages that do not yet exist, as a way to invite others to share what they know about a subject new to the wiki. Wiki users can typically \"tag\" pages with categories or keywords, to make it easier for other users to find the article. For example, a user creating a new article on cold weather cycling might \"tag\" this page under the categories of commuting, winter sports and bicycling. This would make it easier for other users to find the article.'"
   ]
  },
  {
   "cell_type": "code",
   "execution_count": 217,
   "metadata": {},
   "outputs": [
    {
     "name": "stdout",
     "output_type": "stream",
     "text": [
      "Words : 214\n",
      "Symbols : 1244\n"
     ]
    }
   ],
   "source": [
    "Words = string_.split(' ')\n",
    "print('Words :' ,len(Words))\n",
    "Symbols = len(string_)\n",
    "print('Symbols :' , Symbols)"
   ]
  },
  {
   "cell_type": "markdown",
   "metadata": {},
   "source": [
    "## 2.1"
   ]
  },
  {
   "cell_type": "markdown",
   "metadata": {},
   "source": [
    "Пусть дана матрица чисел размером NхN. Представьте данную матрицу в виде списка. Выведите результат сложения всех элементов\n",
    "матрицы."
   ]
  },
  {
   "cell_type": "code",
   "execution_count": 367,
   "metadata": {},
   "outputs": [
    {
     "data": {
      "text/plain": [
       "array([[ 3,  1,  5,  4,  2],\n",
       "       [10,  9,  2,  2,  6],\n",
       "       [ 0,  8,  9,  3,  9],\n",
       "       [ 3, 10,  7,  7,  7],\n",
       "       [ 3,  0,  2, 10,  1]])"
      ]
     },
     "execution_count": 367,
     "metadata": {},
     "output_type": "execute_result"
    }
   ],
   "source": [
    "import numpy as np\n",
    "m = randint(1,10)\n",
    "n = randint(1,10)\n",
    "matrix = np.array([[randint(0,10) for y in range(m)] for x in range(m)])\n",
    "matrix"
   ]
  },
  {
   "cell_type": "code",
   "execution_count": 350,
   "metadata": {},
   "outputs": [
    {
     "name": "stdout",
     "output_type": "stream",
     "text": [
      "97\n"
     ]
    }
   ],
   "source": [
    "list_ = []\n",
    "for i in matrix:\n",
    "    str_sum =(sum(i))\n",
    "    list_.append(str_sum)\n",
    "    sum_ = sum(list_)\n",
    "print(sum_)"
   ]
  },
  {
   "cell_type": "markdown",
   "metadata": {},
   "source": [
    "## 2.2"
   ]
  },
  {
   "cell_type": "markdown",
   "metadata": {},
   "source": [
    "Дана матрица размером NxM. Напишите алгоритм вычисления максимума из сумм элементов каждого столбца."
   ]
  },
  {
   "cell_type": "code",
   "execution_count": 368,
   "metadata": {},
   "outputs": [
    {
     "data": {
      "text/plain": [
       "array([[ 3, 10,  0,  3,  3],\n",
       "       [ 1,  9,  8, 10,  0],\n",
       "       [ 5,  2,  9,  7,  2],\n",
       "       [ 4,  2,  3,  7, 10],\n",
       "       [ 2,  6,  9,  7,  1]])"
      ]
     },
     "execution_count": 368,
     "metadata": {},
     "output_type": "execute_result"
    }
   ],
   "source": [
    "matrixT = matrix.transpose()\n",
    "matrixT"
   ]
  },
  {
   "cell_type": "code",
   "execution_count": 369,
   "metadata": {},
   "outputs": [
    {
     "data": {
      "text/plain": [
       "28"
      ]
     },
     "execution_count": 369,
     "metadata": {},
     "output_type": "execute_result"
    }
   ],
   "source": [
    "list_column_sum = []\n",
    "for i in matrixT:\n",
    "    str_sum =(sum(i))\n",
    "    list_column_sum .append(str_sum)\n",
    "max(list_column_sum )"
   ]
  },
  {
   "cell_type": "markdown",
   "metadata": {},
   "source": [
    "## 3.1"
   ]
  },
  {
   "cell_type": "markdown",
   "metadata": {},
   "source": [
    "Пусть список студентов представлен в виде структуры [[No, ФИО, Возраст,Группа],[No, ФИО, Возраст, Группа],[No, ФИО, Возраст, Группа]].\n",
    "Преобразуйте список в словарь вида: {No: [ФИО, Возраст, Группа], No:[....], No: [....]}"
   ]
  },
  {
   "cell_type": "code",
   "execution_count": 370,
   "metadata": {},
   "outputs": [],
   "source": [
    "student_list = [[1, 'Пупкин Миша Михайлов', 21, 'A7'],\n",
    "               [2, 'Пупкин Иосиф Михайлов', 22, 'A8'],\n",
    "               [3, 'Пупкин Ибрагим Михайлов', 41, 'A7'],\n",
    "               [4, 'Головкин Вася Данхимов', 25, 'B7'],\n",
    "               [5, 'Абрамов Иван Муслимович', 24, 'C7'],\n",
    "               [6, 'Ким чен И', 23, 'G7'],\n",
    "               [7, 'Джон Малкович Старишй', 28, 'GFWD7']]"
   ]
  },
  {
   "cell_type": "code",
   "execution_count": 382,
   "metadata": {},
   "outputs": [
    {
     "data": {
      "text/plain": [
       "{1: ['Пупкин Миша Михайлов', 21, 'A7'],\n",
       " 2: ['Пупкин Иосиф Михайлов', 22, 'A8'],\n",
       " 3: ['Пупкин Ибрагим Михайлов', 41, 'A7'],\n",
       " 4: ['Головкин Вася Данхимов', 25, 'B7'],\n",
       " 5: ['Абрамов Иван Муслимович', 24, 'C7'],\n",
       " 6: ['Ким чен И', 23, 'G7'],\n",
       " 7: ['Джон Малкович Старишй', 28, 'GFWD7']}"
      ]
     },
     "execution_count": 382,
     "metadata": {},
     "output_type": "execute_result"
    }
   ],
   "source": [
    "dict_ = {}\n",
    "for i in range(len(student_list)):\n",
    "    dict_[student_list[i][0]] = student_list[i][1:4]\n",
    "dict_"
   ]
  },
  {
   "cell_type": "markdown",
   "metadata": {},
   "source": [
    "## 3.2"
   ]
  },
  {
   "cell_type": "markdown",
   "metadata": {},
   "source": [
    "Напишите алгоритм, позволяющий найти запись в словаре из задачи 3.1 (без преобразования словаря обратно в список) по фамилии\n",
    "и изменить в ней номер группы. Фамилию и новый номер группы необходимо ввести с клавиатуры."
   ]
  },
  {
   "cell_type": "code",
   "execution_count": 436,
   "metadata": {},
   "outputs": [
    {
     "name": "stdout",
     "output_type": "stream",
     "text": [
      "Абрамов Иван Муслимович\n",
      "88\n"
     ]
    },
    {
     "data": {
      "text/plain": [
       "{1: ['Пупкин Миша Михайлов', 21, 'A7'],\n",
       " 2: ['Пупкин Иосиф Михайлов', 22, 'A8'],\n",
       " 3: ['Пупкин Ибрагим Михайлов', 41, 'A7'],\n",
       " 4: ['Головкин Вася Данхимов', 25, 'B7'],\n",
       " 5: ['Абрамов Иван Муслимович', 24, '88'],\n",
       " 6: ['Ким чен И', 23, 'G7'],\n",
       " 7: ['Джон Малкович Старишй', 28, 'G7']}"
      ]
     },
     "execution_count": 436,
     "metadata": {},
     "output_type": "execute_result"
    }
   ],
   "source": [
    "n = input()\n",
    "for i in dict_:\n",
    "    if n in dict_[i]:\n",
    "        m = input()\n",
    "        dict_[i][2] = m\n",
    "dict_       "
   ]
  },
  {
   "cell_type": "code",
   "execution_count": 435,
   "metadata": {},
   "outputs": [
    {
     "data": {
      "text/plain": [
       "{1: ['Пупкин Миша Михайлов', 21, 'A7'],\n",
       " 2: ['Пупкин Иосиф Михайлов', 22, 'A8'],\n",
       " 3: ['Пупкин Ибрагим Михайлов', 41, 'A7'],\n",
       " 4: ['Головкин Вася Данхимов', 25, 'B7'],\n",
       " 5: ['Абрамов Иван Муслимович', 24, 'C7'],\n",
       " 6: ['Ким чен И', 23, 'G7'],\n",
       " 7: ['Джон Малкович Старишй', 28, 'G7']}"
      ]
     },
     "execution_count": 435,
     "metadata": {},
     "output_type": "execute_result"
    }
   ],
   "source": [
    "dict_"
   ]
  },
  {
   "cell_type": "markdown",
   "metadata": {},
   "source": [
    "## 3.3"
   ]
  },
  {
   "cell_type": "code",
   "execution_count": 437,
   "metadata": {},
   "outputs": [
    {
     "name": "stdout",
     "output_type": "stream",
     "text": [
      "Абрамов Иван Муслимович\n",
      "99\n"
     ]
    },
    {
     "data": {
      "text/plain": [
       "{1: ['Пупкин Миша Михайлов', 21, 'A7'],\n",
       " 2: ['Пупкин Иосиф Михайлов', 22, 'A8'],\n",
       " 3: ['Пупкин Ибрагим Михайлов', 41, 'A7'],\n",
       " 4: ['Головкин Вася Данхимов', 25, 'B7'],\n",
       " 5: ['Абрамов Иван Муслимович', 99, '88'],\n",
       " 6: ['Ким чен И', 23, 'G7'],\n",
       " 7: ['Джон Малкович Старишй', 28, 'G7']}"
      ]
     },
     "execution_count": 437,
     "metadata": {},
     "output_type": "execute_result"
    }
   ],
   "source": [
    "n = input()\n",
    "for i in dict_:\n",
    "    if n in dict_[i]:\n",
    "        m = int(input())\n",
    "        dict_[i][1] = m\n",
    "dict_  "
   ]
  }
 ],
 "metadata": {
  "kernelspec": {
   "display_name": "Python 3",
   "language": "python",
   "name": "python3"
  },
  "language_info": {
   "codemirror_mode": {
    "name": "ipython",
    "version": 3
   },
   "file_extension": ".py",
   "mimetype": "text/x-python",
   "name": "python",
   "nbconvert_exporter": "python",
   "pygments_lexer": "ipython3",
   "version": "3.7.3"
  }
 },
 "nbformat": 4,
 "nbformat_minor": 2
}
