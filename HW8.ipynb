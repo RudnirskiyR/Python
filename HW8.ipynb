{
 "cells": [
  {
   "cell_type": "code",
   "execution_count": 105,
   "metadata": {},
   "outputs": [],
   "source": [
    "import pandas as pd\n",
    "import matplotlib.pyplot as plt\n",
    "import seaborn as sns"
   ]
  },
  {
   "cell_type": "code",
   "execution_count": 106,
   "metadata": {},
   "outputs": [
    {
     "data": {
      "text/html": [
       "<div>\n",
       "<style scoped>\n",
       "    .dataframe tbody tr th:only-of-type {\n",
       "        vertical-align: middle;\n",
       "    }\n",
       "\n",
       "    .dataframe tbody tr th {\n",
       "        vertical-align: top;\n",
       "    }\n",
       "\n",
       "    .dataframe thead th {\n",
       "        text-align: right;\n",
       "    }\n",
       "</style>\n",
       "<table border=\"1\" class=\"dataframe\">\n",
       "  <thead>\n",
       "    <tr style=\"text-align: right;\">\n",
       "      <th></th>\n",
       "      <th>budget</th>\n",
       "      <th>genres</th>\n",
       "      <th>homepage</th>\n",
       "      <th>id</th>\n",
       "      <th>keywords</th>\n",
       "      <th>original_language</th>\n",
       "      <th>original_title</th>\n",
       "      <th>overview</th>\n",
       "      <th>popularity</th>\n",
       "      <th>production_companies</th>\n",
       "      <th>production_countries</th>\n",
       "      <th>release_date</th>\n",
       "      <th>revenue</th>\n",
       "      <th>runtime</th>\n",
       "      <th>spoken_languages</th>\n",
       "      <th>status</th>\n",
       "      <th>tagline</th>\n",
       "      <th>title</th>\n",
       "      <th>vote_average</th>\n",
       "      <th>vote_count</th>\n",
       "    </tr>\n",
       "  </thead>\n",
       "  <tbody>\n",
       "    <tr>\n",
       "      <th>0</th>\n",
       "      <td>237000000</td>\n",
       "      <td>[{\"id\": 28, \"name\": \"Action\"}, {\"id\": 12, \"nam...</td>\n",
       "      <td>http://www.avatarmovie.com/</td>\n",
       "      <td>19995</td>\n",
       "      <td>[{\"id\": 1463, \"name\": \"culture clash\"}, {\"id\":...</td>\n",
       "      <td>en</td>\n",
       "      <td>Avatar</td>\n",
       "      <td>In the 22nd century, a paraplegic Marine is di...</td>\n",
       "      <td>150.437577</td>\n",
       "      <td>[{\"name\": \"Ingenious Film Partners\", \"id\": 289...</td>\n",
       "      <td>[{\"iso_3166_1\": \"US\", \"name\": \"United States o...</td>\n",
       "      <td>2009-12-10</td>\n",
       "      <td>2787965087</td>\n",
       "      <td>162.0</td>\n",
       "      <td>[{\"iso_639_1\": \"en\", \"name\": \"English\"}, {\"iso...</td>\n",
       "      <td>Released</td>\n",
       "      <td>Enter the World of Pandora.</td>\n",
       "      <td>Avatar</td>\n",
       "      <td>7.2</td>\n",
       "      <td>11800</td>\n",
       "    </tr>\n",
       "  </tbody>\n",
       "</table>\n",
       "</div>"
      ],
      "text/plain": [
       "      budget                                             genres  \\\n",
       "0  237000000  [{\"id\": 28, \"name\": \"Action\"}, {\"id\": 12, \"nam...   \n",
       "\n",
       "                      homepage     id  \\\n",
       "0  http://www.avatarmovie.com/  19995   \n",
       "\n",
       "                                            keywords original_language  \\\n",
       "0  [{\"id\": 1463, \"name\": \"culture clash\"}, {\"id\":...                en   \n",
       "\n",
       "  original_title                                           overview  \\\n",
       "0         Avatar  In the 22nd century, a paraplegic Marine is di...   \n",
       "\n",
       "   popularity                               production_companies  \\\n",
       "0  150.437577  [{\"name\": \"Ingenious Film Partners\", \"id\": 289...   \n",
       "\n",
       "                                production_countries release_date     revenue  \\\n",
       "0  [{\"iso_3166_1\": \"US\", \"name\": \"United States o...   2009-12-10  2787965087   \n",
       "\n",
       "   runtime                                   spoken_languages    status  \\\n",
       "0    162.0  [{\"iso_639_1\": \"en\", \"name\": \"English\"}, {\"iso...  Released   \n",
       "\n",
       "                       tagline   title  vote_average  vote_count  \n",
       "0  Enter the World of Pandora.  Avatar           7.2       11800  "
      ]
     },
     "execution_count": 106,
     "metadata": {},
     "output_type": "execute_result"
    }
   ],
   "source": [
    "df = pd.read_csv(\n",
    "    'tmdb_5000_movies.csv')\n",
    "df.head(1)\n"
   ]
  },
  {
   "cell_type": "markdown",
   "metadata": {},
   "source": [
    "### Очишаем Dafaframe"
   ]
  },
  {
   "cell_type": "code",
   "execution_count": 107,
   "metadata": {},
   "outputs": [],
   "source": [
    "df = df[(df.revenue != 0) & (df.budget != 0) & (df.popularity >= 1)]"
   ]
  },
  {
   "cell_type": "code",
   "execution_count": 108,
   "metadata": {},
   "outputs": [
    {
     "data": {
      "text/html": [
       "<div>\n",
       "<style scoped>\n",
       "    .dataframe tbody tr th:only-of-type {\n",
       "        vertical-align: middle;\n",
       "    }\n",
       "\n",
       "    .dataframe tbody tr th {\n",
       "        vertical-align: top;\n",
       "    }\n",
       "\n",
       "    .dataframe thead th {\n",
       "        text-align: right;\n",
       "    }\n",
       "</style>\n",
       "<table border=\"1\" class=\"dataframe\">\n",
       "  <thead>\n",
       "    <tr style=\"text-align: right;\">\n",
       "      <th></th>\n",
       "      <th>title</th>\n",
       "      <th>vote_average</th>\n",
       "    </tr>\n",
       "  </thead>\n",
       "  <tbody>\n",
       "    <tr>\n",
       "      <th>0</th>\n",
       "      <td>Avatar</td>\n",
       "      <td>7.2</td>\n",
       "    </tr>\n",
       "    <tr>\n",
       "      <th>1</th>\n",
       "      <td>Pirates of the Caribbean: At World's End</td>\n",
       "      <td>6.9</td>\n",
       "    </tr>\n",
       "    <tr>\n",
       "      <th>2</th>\n",
       "      <td>Spectre</td>\n",
       "      <td>6.3</td>\n",
       "    </tr>\n",
       "    <tr>\n",
       "      <th>3</th>\n",
       "      <td>The Dark Knight Rises</td>\n",
       "      <td>7.6</td>\n",
       "    </tr>\n",
       "    <tr>\n",
       "      <th>4</th>\n",
       "      <td>John Carter</td>\n",
       "      <td>6.1</td>\n",
       "    </tr>\n",
       "  </tbody>\n",
       "</table>\n",
       "</div>"
      ],
      "text/plain": [
       "                                      title  vote_average\n",
       "0                                    Avatar           7.2\n",
       "1  Pirates of the Caribbean: At World's End           6.9\n",
       "2                                   Spectre           6.3\n",
       "3                     The Dark Knight Rises           7.6\n",
       "4                               John Carter           6.1"
      ]
     },
     "execution_count": 108,
     "metadata": {},
     "output_type": "execute_result"
    }
   ],
   "source": [
    "df_rate = df[['title', 'vote_average']]\n",
    "df_rate.head()"
   ]
  },
  {
   "cell_type": "code",
   "execution_count": 109,
   "metadata": {},
   "outputs": [],
   "source": [
    "df1 = df_rate.sort_values('vote_average', ascending = False).head(10)\n",
    "df2 = df1.sort_values('vote_average', ascending = True)"
   ]
  },
  {
   "cell_type": "markdown",
   "metadata": {},
   "source": [
    "### Используем значение средней оценки и исходя из этого найдет топ лучших фильмо"
   ]
  },
  {
   "cell_type": "code",
   "execution_count": 110,
   "metadata": {},
   "outputs": [
    {
     "data": {
      "text/plain": [
       "Text(0.5, 1.0, 'Top 10 best films')"
      ]
     },
     "execution_count": 110,
     "metadata": {},
     "output_type": "execute_result"
    },
    {
     "data": {
      "image/png": "[encoded data removed]",
      "text/plain": [
       "<Figure size 432x288 with 1 Axes>"
      ]
     },
     "metadata": {
      "needs_background": "light"
     },
     "output_type": "display_data"
    }
   ],
   "source": [
    "plt.barh(df2['title'], df2['vote_average'])\n",
    "plt.grid()\n",
    "plt.xlabel('rate')\n",
    "plt.ylabel('films')\n",
    "plt.title('Top 10 best films')"
   ]
  },
  {
   "cell_type": "code",
   "execution_count": 111,
   "metadata": {},
   "outputs": [],
   "source": [
    "df['release_date'] = pd.to_datetime(df['release_date'])\n",
    "df['year']= df['release_date'].dt.year"
   ]
  },
  {
   "cell_type": "markdown",
   "metadata": {},
   "source": [
    "### Находим как увеличивалось число фильмов с каждым годом"
   ]
  },
  {
   "cell_type": "code",
   "execution_count": 112,
   "metadata": {},
   "outputs": [
    {
     "data": {
      "image/png": "[encoded data removed]",
      "text/plain": [
       "<Figure size 432x288 with 1 Axes>"
      ]
     },
     "metadata": {
      "needs_background": "light"
     },
     "output_type": "display_data"
    }
   ],
   "source": [
    "df_ct = df.groupby('year').count()['status'].reset_index()\n",
    "plt.plot(df_ct['year'], df_ct['status'])\n",
    "plt.grid()\n",
    "plt.tick_params(length = 1)\n",
    "plt.xlabel('year')\n",
    "plt.ylabel('numbers')\n",
    "plt.xlim([1920, 2016])\n",
    "plt.xticks(range(1920,2016,5))\n",
    "plt.title('Increase film num by year')\n",
    "plt.tick_params(axis='x', labelrotation = 45)"
   ]
  },
  {
   "cell_type": "markdown",
   "metadata": {},
   "source": [
    "#### Соотношение бюджета и сборов"
   ]
  },
  {
   "cell_type": "code",
   "execution_count": 12,
   "metadata": {},
   "outputs": [
    {
     "data": {
      "text/plain": [
       "([<matplotlib.axis.XTick at 0x9e0aac8>,\n",
       "  <matplotlib.axis.XTick at 0x9e0a048>,\n",
       "  <matplotlib.axis.XTick at 0x9e55208>,\n",
       "  <matplotlib.axis.XTick at 0x9e55550>,\n",
       "  <matplotlib.axis.XTick at 0x9e55c50>,\n",
       "  <matplotlib.axis.XTick at 0x9e5e198>,\n",
       "  <matplotlib.axis.XTick at 0x9e5e630>,\n",
       "  <matplotlib.axis.XTick at 0x9c66470>,\n",
       "  <matplotlib.axis.XTick at 0x9e792e8>,\n",
       "  <matplotlib.axis.XTick at 0x9ea7550>,\n",
       "  <matplotlib.axis.XTick at 0x9ea7a20>,\n",
       "  <matplotlib.axis.XTick at 0x9ea7ef0>,\n",
       "  <matplotlib.axis.XTick at 0x9eb2400>,\n",
       "  <matplotlib.axis.XTick at 0x9eb28d0>,\n",
       "  <matplotlib.axis.XTick at 0x9ea79e8>,\n",
       "  <matplotlib.axis.XTick at 0x9eb2da0>,\n",
       "  <matplotlib.axis.XTick at 0x9eb2080>,\n",
       "  <matplotlib.axis.XTick at 0x9ebb470>,\n",
       "  <matplotlib.axis.XTick at 0x9ebb940>,\n",
       "  <matplotlib.axis.XTick at 0x9ebbe10>],\n",
       " <a list of 20 Text xticklabel objects>)"
      ]
     },
     "execution_count": 12,
     "metadata": {},
     "output_type": "execute_result"
    },
    {
     "data": {
      "image/png": "[encoded data removed]",
      "text/plain": [
       "<Figure size 432x288 with 1 Axes>"
      ]
     },
     "metadata": {
      "needs_background": "light"
     },
     "output_type": "display_data"
    }
   ],
   "source": [
    "df_budget = df.groupby('year').sum()\n",
    "df_budget_occupancy = df_budget[['budget','revenue']]\n",
    "df_budget_occupancy.plot(kind='area', rot = 45)\n",
    "plt.xticks(range(1920,2016,5))"
   ]
  },
  {
   "cell_type": "markdown",
   "metadata": {},
   "source": [
    "#### Посмотрим на корреляцию сборов и оценок"
   ]
  },
  {
   "cell_type": "code",
   "execution_count": 147,
   "metadata": {},
   "outputs": [
    {
     "data": {
      "text/plain": [
       "<seaborn.axisgrid.PairGrid at 0x123eac50>"
      ]
     },
     "execution_count": 147,
     "metadata": {},
     "output_type": "execute_result"
    },
    {
     "data": {
      "image/png": "[encoded data removed]",
      "text/plain": [
       "<Figure size 360x360 with 6 Axes>"
      ]
     },
     "metadata": {
      "needs_background": "light"
     },
     "output_type": "display_data"
    }
   ],
   "source": [
    "sns_plot = sns.pairplot(\n",
    "    df[['revenue', 'vote_average']])\n",
    "sns_plot"
   ]
  },
  {
   "cell_type": "code",
   "execution_count": 115,
   "metadata": {},
   "outputs": [
    {
     "data": {
      "text/html": [
       "        <script type=\"text/javascript\">\n",
       "        window.PlotlyConfig = {MathJaxConfig: 'local'};\n",
       "        if (window.MathJax) {MathJax.Hub.Config({SVG: {font: \"STIX-Web\"}});}\n",
       "        if (typeof require !== 'undefined') {\n",
       "        require.undef(\"plotly\");\n",
       "        requirejs.config({\n",
       "            paths: {\n",
       "                'plotly': ['https://cdn.plot.ly/plotly-latest.min']\n",
       "            }\n",
       "        });\n",
       "        require(['plotly'], function(Plotly) {\n",
       "            window._Plotly = Plotly;\n",
       "        });\n",
       "        }\n",
       "        </script>\n",
       "        "
      ]
     },
     "metadata": {},
     "output_type": "display_data"
    }
   ],
   "source": [
    "from plotly.offline import init_notebook_mode, iplot\n",
    "import plotly\n",
    "import plotly.graph_objs as go\n",
    "\n",
    "init_notebook_mode(connected=True)"
   ]
  },
  {
   "cell_type": "code",
   "execution_count": 145,
   "metadata": {},
   "outputs": [
    {
     "data": {
      "text/html": [
       "<div>\n",
       "<style scoped>\n",
       "    .dataframe tbody tr th:only-of-type {\n",
       "        vertical-align: middle;\n",
       "    }\n",
       "\n",
       "    .dataframe tbody tr th {\n",
       "        vertical-align: top;\n",
       "    }\n",
       "\n",
       "    .dataframe thead th {\n",
       "        text-align: right;\n",
       "    }\n",
       "</style>\n",
       "<table border=\"1\" class=\"dataframe\">\n",
       "  <thead>\n",
       "    <tr style=\"text-align: right;\">\n",
       "      <th></th>\n",
       "      <th>year</th>\n",
       "      <th>budget</th>\n",
       "      <th>revenue</th>\n",
       "    </tr>\n",
       "  </thead>\n",
       "  <tbody>\n",
       "    <tr>\n",
       "      <th>0</th>\n",
       "      <td>1916</td>\n",
       "      <td>385907</td>\n",
       "      <td>8394751</td>\n",
       "    </tr>\n",
       "    <tr>\n",
       "      <th>1</th>\n",
       "      <td>1927</td>\n",
       "      <td>92620000</td>\n",
       "      <td>650422</td>\n",
       "    </tr>\n",
       "    <tr>\n",
       "      <th>2</th>\n",
       "      <td>1930</td>\n",
       "      <td>3950000</td>\n",
       "      <td>8000000</td>\n",
       "    </tr>\n",
       "    <tr>\n",
       "      <th>3</th>\n",
       "      <td>1932</td>\n",
       "      <td>4</td>\n",
       "      <td>25</td>\n",
       "    </tr>\n",
       "    <tr>\n",
       "      <th>4</th>\n",
       "      <td>1933</td>\n",
       "      <td>439000</td>\n",
       "      <td>2281000</td>\n",
       "    </tr>\n",
       "  </tbody>\n",
       "</table>\n",
       "</div>"
      ],
      "text/plain": [
       "   year    budget  revenue\n",
       "0  1916    385907  8394751\n",
       "1  1927  92620000   650422\n",
       "2  1930   3950000  8000000\n",
       "3  1932         4       25\n",
       "4  1933    439000  2281000"
      ]
     },
     "execution_count": 145,
     "metadata": {},
     "output_type": "execute_result"
    }
   ],
   "source": [
    "df_filt = df.filter(items = ['year', 'budget', 'revenue'])\n",
    "df_year_budget = df_filt.groupby('year').sum().reset_index()\n",
    "df_year_budget.head()"
   ]
  },
  {
   "cell_type": "code",
   "execution_count": 159,
   "metadata": {},
   "outputs": [
    {
     "data": {
      "application/vnd.plotly.v1+json": {
       "config": {
        "linkText": "Export to plot.ly",
        "plotlyServerURL": "https://plot.ly",
        "showLink": false
       },
       "data": [
        {
         "name": "total budget by year",
         "type": "bar",
         "uid": "8ebdb676-098c-4a5d-9769-b03c7352b074",
         "x": [
          1916,
          1927,
          1930,
          1932,
          1933,
          1934,
          1935,
          1936,
          1937,
          1938,
          1939,
          1940,
          1941,
          1942,
          1945,
          1946,
          1947,
          1948,
          1949,
          1950,
          1951,
          1952,
          1953,
          1954,
          1955,
          1956,
          1957,
          1958,
          1959,
          1960,
          1961,
          1962,
          1963,
          1964,
          1965,
          1966,
          1967,
          1968,
          1969,
          1970,
          1971,
          1972,
          1973,
          1974,
          1975,
          1976,
          1977,
          1978,
          1979,
          1980,
          1981,
          1982,
          1983,
          1984,
          1985,
          1986,
          1987,
          1988,
          1989,
          1990,
          1991,
          1992,
          1993,
          1994,
          1995,
          1996,
          1997,
          1998,
          1999,
          2000,
          2001,
          2002,
          2003,
          2004,
          2005,
          2006,
          2007,
          2008,
          2009,
          2010,
          2011,
          2012,
          2013,
          2014,
          2015,
          2016
         ],
         "y": [
          385907,
          92620000,
          3950000,
          4,
          439000,
          325000,
          609000,
          1200001,
          1488423,
          1644736,
          8277000,
          8168000,
          1250000,
          1736000,
          2750000,
          11280000,
          2000000,
          3000000,
          2600000,
          3768785,
          12350000,
          7270800,
          7210000,
          12910000,
          1200000,
          9500000,
          3350000,
          3000000,
          6383848,
          6806948,
          17900000,
          33150000,
          69701000,
          52860000,
          48500000,
          11600000,
          15500000,
          41069000,
          46444087,
          100891946,
          32000000,
          13212000,
          35615783,
          27085000,
          26700000,
          54900000,
          127910000,
          128000011,
          198850000,
          272000000,
          226100000,
          245700000,
          345402000,
          362450000,
          264765523,
          275700000,
          357900000,
          323400000,
          503060000,
          730000000,
          668500000,
          747625545,
          784600000,
          1266727000,
          2005350008,
          2426092051,
          3491896953,
          3543840000,
          4238225673,
          4711700030,
          5232966425,
          5420050159,
          5002512116,
          6041847750,
          6106534523,
          6465429867,
          5619327510,
          6823899099,
          7132277844,
          7393470336,
          7526345771,
          7105847154,
          7954389300,
          7017500000,
          6392400003,
          4593390000
         ]
        },
        {
         "name": "total revenue by year",
         "type": "bar",
         "uid": "1f167fe1-ba4b-4071-8c57-3355dfcad363",
         "x": [
          1916,
          1927,
          1930,
          1932,
          1933,
          1934,
          1935,
          1936,
          1937,
          1938,
          1939,
          1940,
          1941,
          1942,
          1945,
          1946,
          1947,
          1948,
          1949,
          1950,
          1951,
          1952,
          1953,
          1954,
          1955,
          1956,
          1957,
          1958,
          1959,
          1960,
          1961,
          1962,
          1963,
          1964,
          1965,
          1966,
          1967,
          1968,
          1969,
          1970,
          1971,
          1972,
          1973,
          1974,
          1975,
          1976,
          1977,
          1978,
          1979,
          1980,
          1981,
          1982,
          1983,
          1984,
          1985,
          1986,
          1987,
          1988,
          1989,
          1990,
          1991,
          1992,
          1993,
          1994,
          1995,
          1996,
          1997,
          1998,
          1999,
          2000,
          2001,
          2002,
          2003,
          2004,
          2005,
          2006,
          2007,
          2008,
          2009,
          2010,
          2011,
          2012,
          2013,
          2014,
          2015,
          2016
         ],
         "y": [
          8394751,
          650422,
          8000000,
          25,
          2281000,
          4500000,
          3202000,
          11236000,
          184925486,
          7433101,
          443531426,
          182792000,
          6000000,
          277909650,
          18000000,
          53694124,
          7800000,
          9012000,
          13200000,
          8000000,
          49000000,
          51200000,
          80000000,
          53071841,
          7000000,
          33800000,
          34300000,
          17570324,
          37800000,
          67400000,
          74456822,
          210075231,
          285843236,
          347014460,
          554756513,
          59350000,
          127792338,
          186739811,
          294385854,
          248016789,
          281041798,
          291382701,
          959589632,
          386167174,
          654497570,
          298333870,
          1460158920,
          959194859,
          875272215,
          1290982451,
          1304836813,
          1838182166,
          1554157599,
          1753708180,
          1457414777,
          1501892986,
          1557331169,
          1633203558,
          2685989311,
          3863771854,
          2664107492,
          3703657342,
          3853831276,
          5919622043,
          6080879983,
          6773422095,
          9549290446,
          8207963368,
          10308793672,
          10924489474,
          13207668609,
          14556276072,
          14144437359,
          15971928726,
          14871880759,
          16331946653,
          16066177413,
          17920455657,
          20930292844,
          20236886265,
          20455955103,
          23740086217,
          23145629922,
          24047236072,
          22477338612,
          14451226853
         ]
        }
       ],
       "layout": {
        "title": {
         "text": "The ratio of fees and budget"
        }
       }
      },
      "text/html": [
       "<div>\n",
       "        \n",
       "        \n",
       "            <div id=\"bbed20dc-5bc8-4caa-8d6d-c66701a64a34\" class=\"plotly-graph-div\" style=\"height:525px; width:100%;\"></div>\n",
       "            <script type=\"text/javascript\">\n",
       "                require([\"plotly\"], function(Plotly) {\n",
       "                    window.PLOTLYENV=window.PLOTLYENV || {};\n",
       "                    window.PLOTLYENV.BASE_URL='https://plot.ly';\n",
       "                    \n",
       "                if (document.getElementById(\"bbed20dc-5bc8-4caa-8d6d-c66701a64a34\")) {\n",
       "                    Plotly.newPlot(\n",
       "                        'bbed20dc-5bc8-4caa-8d6d-c66701a64a34',\n",
       "                        [{\"name\": \"total budget by year\", \"type\": \"bar\", \"uid\": \"8ebdb676-098c-4a5d-9769-b03c7352b074\", \"x\": [1916, 1927, 1930, 1932, 1933, 1934, 1935, 1936, 1937, 1938, 1939, 1940, 1941, 1942, 1945, 1946, 1947, 1948, 1949, 1950, 1951, 1952, 1953, 1954, 1955, 1956, 1957, 1958, 1959, 1960, 1961, 1962, 1963, 1964, 1965, 1966, 1967, 1968, 1969, 1970, 1971, 1972, 1973, 1974, 1975, 1976, 1977, 1978, 1979, 1980, 1981, 1982, 1983, 1984, 1985, 1986, 1987, 1988, 1989, 1990, 1991, 1992, 1993, 1994, 1995, 1996, 1997, 1998, 1999, 2000, 2001, 2002, 2003, 2004, 2005, 2006, 2007, 2008, 2009, 2010, 2011, 2012, 2013, 2014, 2015, 2016], \"y\": [385907, 92620000, 3950000, 4, 439000, 325000, 609000, 1200001, 1488423, 1644736, 8277000, 8168000, 1250000, 1736000, 2750000, 11280000, 2000000, 3000000, 2600000, 3768785, 12350000, 7270800, 7210000, 12910000, 1200000, 9500000, 3350000, 3000000, 6383848, 6806948, 17900000, 33150000, 69701000, 52860000, 48500000, 11600000, 15500000, 41069000, 46444087, 100891946, 32000000, 13212000, 35615783, 27085000, 26700000, 54900000, 127910000, 128000011, 198850000, 272000000, 226100000, 245700000, 345402000, 362450000, 264765523, 275700000, 357900000, 323400000, 503060000, 730000000, 668500000, 747625545, 784600000, 1266727000, 2005350008, 2426092051, 3491896953, 3543840000, 4238225673, 4711700030, 5232966425, 5420050159, 5002512116, 6041847750, 6106534523, 6465429867, 5619327510, 6823899099, 7132277844, 7393470336, 7526345771, 7105847154, 7954389300, 7017500000, 6392400003, 4593390000]}, {\"name\": \"total revenue by year\", \"type\": \"bar\", \"uid\": \"1f167fe1-ba4b-4071-8c57-3355dfcad363\", \"x\": [1916, 1927, 1930, 1932, 1933, 1934, 1935, 1936, 1937, 1938, 1939, 1940, 1941, 1942, 1945, 1946, 1947, 1948, 1949, 1950, 1951, 1952, 1953, 1954, 1955, 1956, 1957, 1958, 1959, 1960, 1961, 1962, 1963, 1964, 1965, 1966, 1967, 1968, 1969, 1970, 1971, 1972, 1973, 1974, 1975, 1976, 1977, 1978, 1979, 1980, 1981, 1982, 1983, 1984, 1985, 1986, 1987, 1988, 1989, 1990, 1991, 1992, 1993, 1994, 1995, 1996, 1997, 1998, 1999, 2000, 2001, 2002, 2003, 2004, 2005, 2006, 2007, 2008, 2009, 2010, 2011, 2012, 2013, 2014, 2015, 2016], \"y\": [8394751, 650422, 8000000, 25, 2281000, 4500000, 3202000, 11236000, 184925486, 7433101, 443531426, 182792000, 6000000, 277909650, 18000000, 53694124, 7800000, 9012000, 13200000, 8000000, 49000000, 51200000, 80000000, 53071841, 7000000, 33800000, 34300000, 17570324, 37800000, 67400000, 74456822, 210075231, 285843236, 347014460, 554756513, 59350000, 127792338, 186739811, 294385854, 248016789, 281041798, 291382701, 959589632, 386167174, 654497570, 298333870, 1460158920, 959194859, 875272215, 1290982451, 1304836813, 1838182166, 1554157599, 1753708180, 1457414777, 1501892986, 1557331169, 1633203558, 2685989311, 3863771854, 2664107492, 3703657342, 3853831276, 5919622043, 6080879983, 6773422095, 9549290446, 8207963368, 10308793672, 10924489474, 13207668609, 14556276072, 14144437359, 15971928726, 14871880759, 16331946653, 16066177413, 17920455657, 20930292844, 20236886265, 20455955103, 23740086217, 23145629922, 24047236072, 22477338612, 14451226853]}],\n",
       "                        {\"title\": {\"text\": \"The ratio of fees and budget\"}},\n",
       "                        {\"showLink\": false, \"linkText\": \"Export to plot.ly\", \"plotlyServerURL\": \"https://plot.ly\", \"responsive\": true}\n",
       "                    ).then(function(){\n",
       "                            \n",
       "var gd = document.getElementById('bbed20dc-5bc8-4caa-8d6d-c66701a64a34');\n",
       "var x = new MutationObserver(function (mutations, observer) {{\n",
       "        var display = window.getComputedStyle(gd).display;\n",
       "        if (!display || display === 'none') {{\n",
       "            console.log([gd, 'removed!']);\n",
       "            Plotly.purge(gd);\n",
       "            observer.disconnect();\n",
       "        }}\n",
       "}});\n",
       "\n",
       "// Listen for the removal of the full notebook cells\n",
       "var notebookContainer = gd.closest('#notebook-container');\n",
       "if (notebookContainer) {{\n",
       "    x.observe(notebookContainer, {childList: true});\n",
       "}}\n",
       "\n",
       "// Listen for the clearing of the current output cell\n",
       "var outputEl = gd.closest('.output');\n",
       "if (outputEl) {{\n",
       "    x.observe(outputEl, {childList: true});\n",
       "}}\n",
       "\n",
       "                        })\n",
       "                };\n",
       "                });\n",
       "            </script>\n",
       "        </div>"
      ]
     },
     "metadata": {},
     "output_type": "display_data"
    }
   ],
   "source": [
    "trace0 = go.Bar(\n",
    "    x=df_year_budget['year'],\n",
    "    y=df_year_budget['budget'],\n",
    "    name='total budget by year'\n",
    ")\n",
    "\n",
    "trace1 = go.Bar(\n",
    "    x=df_year_budget['year'],\n",
    "    y=df_year_budget['revenue'],\n",
    "    name='total revenue by year'\n",
    ")\n",
    "  \n",
    "data = [trace0,trace1]\n",
    "layout = {'title': 'The ratio of fees and budget'}\n",
    "\n",
    "fig = go.Figure(data=data, layout=layout)\n",
    "\n",
    "iplot(fig)"
   ]
  },
  {
   "cell_type": "code",
   "execution_count": null,
   "metadata": {},
   "outputs": [],
   "source": []
  },
  {
   "cell_type": "code",
   "execution_count": null,
   "metadata": {},
   "outputs": [],
   "source": []
  }
 ],
 "metadata": {
  "kernelspec": {
   "display_name": "Python 3",
   "language": "python",
   "name": "python3"
  },
  "language_info": {
   "codemirror_mode": {
    "name": "ipython",
    "version": 3
   },
   "file_extension": ".py",
   "mimetype": "text/x-python",
   "name": "python",
   "nbconvert_exporter": "python",
   "pygments_lexer": "ipython3",
   "version": "3.7.3"
  }
 },
 "nbformat": 4,
 "nbformat_minor": 2
}
