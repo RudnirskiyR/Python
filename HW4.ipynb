{
 "cells": [
  {
   "cell_type": "markdown",
   "metadata": {},
   "source": [
    "## 1 "
   ]
  },
  {
   "cell_type": "markdown",
   "metadata": {},
   "source": [
    "Напишите функцию date_range, которая возвращает список дней между датами start_date и end_date. \n",
    "Даты должны вводиться в формате YYYY-MM-DD."
   ]
  },
  {
   "cell_type": "code",
   "execution_count": 175,
   "metadata": {},
   "outputs": [],
   "source": [
    "def date_range():\n",
    "    from datetime import datetime\n",
    "    from datetime import timedelta\n",
    "\n",
    "    start_date = input('Начальная дата:  ')\n",
    "    end_date = input('Конечная дата:  ')\n",
    "    start_date_dt = datetime.strptime(start_date, '%Y-%m-%d')\n",
    "    end_date_dt = datetime.strptime(end_date, '%Y-%m-%d')\n",
    "    current_dt = start_date_dt \n",
    "\n",
    "    while current_dt <= end_date_dt:\n",
    "        current_dt += timedelta(days=1)\n",
    "        print(current_dt.strftime('%Y-%m-%d'))\n",
    "    return"
   ]
  },
  {
   "cell_type": "code",
   "execution_count": 176,
   "metadata": {},
   "outputs": [
    {
     "name": "stdout",
     "output_type": "stream",
     "text": [
      "Начальная дата:  2018-04-02\n",
      "Конечная дата:  2018-04-08\n",
      "2018-04-03\n",
      "2018-04-04\n",
      "2018-04-05\n",
      "2018-04-06\n",
      "2018-04-07\n",
      "2018-04-08\n",
      "2018-04-09\n"
     ]
    }
   ],
   "source": [
    "date_range()"
   ]
  },
  {
   "cell_type": "markdown",
   "metadata": {},
   "source": [
    "## 2 "
   ]
  },
  {
   "cell_type": "markdown",
   "metadata": {},
   "source": [
    "Дополните функцию из первого задания проверкой на корректность дат.\n",
    "В случае неверного формата или если start_date > end_date должен возвращаться пустой список."
   ]
  },
  {
   "cell_type": "code",
   "execution_count": 177,
   "metadata": {},
   "outputs": [],
   "source": [
    "def date_range():\n",
    "    from datetime import datetime\n",
    "    from datetime import timedelta\n",
    "\n",
    "    start_date = input('Начальная дата:  ')\n",
    "    end_date = input('Конечная дата:  ')\n",
    "    try:\n",
    "        start_date_dt = datetime.strptime(start_date, '%Y-%m-%d')\n",
    "        end_date_dt = datetime.strptime(end_date, '%Y-%m-%d')\n",
    "        current_dt = start_date_dt \n",
    "\n",
    "        while current_dt <= end_date_dt:\n",
    "            current_dt += timedelta(days=1)\n",
    "            print(current_dt.strftime('%Y-%m-%d'))\n",
    "    except ValueError:\n",
    "        print('неверный формат')\n",
    "\n",
    "\n",
    "    return"
   ]
  },
  {
   "cell_type": "code",
   "execution_count": 178,
   "metadata": {},
   "outputs": [
    {
     "name": "stdout",
     "output_type": "stream",
     "text": [
      "Начальная дата:  2018-04-0\n",
      "Конечная дата:  2018-04-1O\n",
      "неверный формат\n"
     ]
    }
   ],
   "source": [
    "date_range()"
   ]
  },
  {
   "cell_type": "markdown",
   "metadata": {},
   "source": [
    "## 3 "
   ]
  },
  {
   "cell_type": "markdown",
   "metadata": {},
   "source": [
    "Дан поток дат в формате YYYY-MM-DD, в которых встречаются некорректные значения:\n",
    "stream = ['2018-04-02', '2018-02-29', '2018-19-02']\n",
    "\n",
    "Напишите функцию, которая проверяет эти даты на корректность. \n",
    "Т. е. для каждой даты возвращает True (дата корректна) или False (некорректная дата)."
   ]
  },
  {
   "cell_type": "code",
   "execution_count": 95,
   "metadata": {},
   "outputs": [],
   "source": [
    "stream = ['2018-04-02', '2018-02-29', '2018-19-02']"
   ]
  },
  {
   "cell_type": "code",
   "execution_count": 179,
   "metadata": {},
   "outputs": [],
   "source": [
    "def date_corr():\n",
    "    for date in stream:\n",
    "        try:\n",
    "            datetime.strptime(date, '%Y-%m-%d')\n",
    "            print(date, 'True')\n",
    "        except ValueError:\n",
    "            print(date,'False')\n",
    "    return"
   ]
  },
  {
   "cell_type": "code",
   "execution_count": 180,
   "metadata": {},
   "outputs": [
    {
     "name": "stdout",
     "output_type": "stream",
     "text": [
      "2018-04-02 True\n",
      "2018-02-29 False\n",
      "2018-19-02 False\n"
     ]
    }
   ],
   "source": [
    "date_corr()"
   ]
  },
  {
   "cell_type": "markdown",
   "metadata": {},
   "source": [
    "## 4"
   ]
  },
  {
   "cell_type": "markdown",
   "metadata": {},
   "source": [
    "Напишите функцию, которая возвращает список дат с 1 по вчерашний день текущего месяца. \n",
    "Если дан 1 день месяца, то возвращается список дней прошлого месяца."
   ]
  },
  {
   "cell_type": "code",
   "execution_count": 182,
   "metadata": {},
   "outputs": [],
   "source": [
    "def month_day():\n",
    "    today = datetime.today() - timedelta(days =1)\n",
    "\n",
    "    first_date_month = datetime.strftime(today, '%Y-%m-01')\n",
    "    first_date_month_dt = datetime.strptime(first_dat_month,'%Y-%m-01')\n",
    "\n",
    "    while today >= first_date_month_dt:\n",
    "        print(datetime.strftime(today, '%Y-%m-%d'))\n",
    "        today= today - timedelta(days =1)\n",
    "    return"
   ]
  },
  {
   "cell_type": "code",
   "execution_count": 183,
   "metadata": {},
   "outputs": [
    {
     "name": "stdout",
     "output_type": "stream",
     "text": [
      "2019-05-31\n",
      "2019-05-30\n",
      "2019-05-29\n",
      "2019-05-28\n",
      "2019-05-27\n",
      "2019-05-26\n",
      "2019-05-25\n",
      "2019-05-24\n",
      "2019-05-23\n",
      "2019-05-22\n",
      "2019-05-21\n",
      "2019-05-20\n",
      "2019-05-19\n",
      "2019-05-18\n",
      "2019-05-17\n",
      "2019-05-16\n",
      "2019-05-15\n",
      "2019-05-14\n",
      "2019-05-13\n",
      "2019-05-12\n",
      "2019-05-11\n",
      "2019-05-10\n",
      "2019-05-09\n",
      "2019-05-08\n",
      "2019-05-07\n",
      "2019-05-06\n",
      "2019-05-05\n",
      "2019-05-04\n",
      "2019-05-03\n",
      "2019-05-02\n",
      "2019-05-01\n"
     ]
    }
   ],
   "source": [
    "month_day()"
   ]
  }
 ],
 "metadata": {
  "kernelspec": {
   "display_name": "Python 3",
   "language": "python",
   "name": "python3"
  },
  "language_info": {
   "codemirror_mode": {
    "name": "ipython",
    "version": 3
   },
   "file_extension": ".py",
   "mimetype": "text/x-python",
   "name": "python",
   "nbconvert_exporter": "python",
   "pygments_lexer": "ipython3",
   "version": "3.7.3"
  }
 },
 "nbformat": 4,
 "nbformat_minor": 2
}
