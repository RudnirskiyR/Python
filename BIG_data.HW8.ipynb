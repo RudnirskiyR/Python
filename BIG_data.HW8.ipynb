{
  "nbformat": 4,
  "nbformat_minor": 0,
  "metadata": {
    "colab": {
      "name": "HW8",
      "version": "0.3.2",
      "provenance": [],
      "collapsed_sections": []
    },
    "kernelspec": {
      "name": "python3",
      "display_name": "Python 3"
    }
  },
  "cells": [
    {
      "cell_type": "code",
      "metadata": {
        "id": "uk3u46j7oa3m",
        "colab_type": "code",
        "colab": {}
      },
      "source": [
        "!apt-get install openjdk-8-jdk-headless -qq > /dev/null"
      ],
      "execution_count": 0,
      "outputs": []
    },
    {
      "cell_type": "code",
      "metadata": {
        "id": "DelIo2eMogkH",
        "colab_type": "code",
        "colab": {}
      },
      "source": [
        "!wget -q www-us.apache.org/dist/spark/spark-2.4.4/spark-2.4.4-bin-hadoop2.7.tgz"
      ],
      "execution_count": 0,
      "outputs": []
    },
    {
      "cell_type": "code",
      "metadata": {
        "id": "sPF4dgA_ogmd",
        "colab_type": "code",
        "colab": {}
      },
      "source": [
        "!pip install -q findspark"
      ],
      "execution_count": 0,
      "outputs": []
    },
    {
      "cell_type": "code",
      "metadata": {
        "id": "pKY87W7Sqdwq",
        "colab_type": "code",
        "colab": {}
      },
      "source": [
        "!tar -xvf spark-2.4.4-bin-hadoop2.7.tgz"
      ],
      "execution_count": 0,
      "outputs": []
    },
    {
      "cell_type": "code",
      "metadata": {
        "id": "lYqpWRQoogpF",
        "colab_type": "code",
        "colab": {}
      },
      "source": [
        "import os\n",
        "os.environ[\"JAVA_HOME\"] = \"/usr/lib/jvm/java-8-openjdk-amd64\"\n",
        "os.environ[\"SPARK_HOME\"] = \"/content/spark-2.4.4-bin-hadoop2.7\""
      ],
      "execution_count": 0,
      "outputs": []
    },
    {
      "cell_type": "code",
      "metadata": {
        "id": "3pXf4XxWqPdL",
        "colab_type": "code",
        "colab": {}
      },
      "source": [
        "import findspark\n",
        "findspark.init()\n",
        "from pyspark.sql import SparkSession\n",
        "\n",
        "spark = SparkSession.builder.master(\"local[*]\").getOrCreate()"
      ],
      "execution_count": 0,
      "outputs": []
    },
    {
      "cell_type": "code",
      "metadata": {
        "id": "zHg9QBAQ3I4w",
        "colab_type": "code",
        "colab": {}
      },
      "source": [
        "import pyspark"
      ],
      "execution_count": 0,
      "outputs": []
    },
    {
      "cell_type": "code",
      "metadata": {
        "id": "f3c8Soj-q8OA",
        "colab_type": "code",
        "colab": {}
      },
      "source": [
        "from pyspark.sql import functions as F"
      ],
      "execution_count": 0,
      "outputs": []
    },
    {
      "cell_type": "code",
      "metadata": {
        "id": "n6dWYj1pogvB",
        "colab_type": "code",
        "colab": {}
      },
      "source": [
        "df = spark.read.csv('iris.csv', inferSchema=True, header=True).withColumnRenamed('sepal.length', 'sepal_length').withColumnRenamed('sepal.width', 'sepal_width').withColumnRenamed('petal.length', 'petal_length').withColumnRenamed('petal.width', 'petal_width')"
      ],
      "execution_count": 0,
      "outputs": []
    },
    {
      "cell_type": "code",
      "metadata": {
        "id": "JLN3oaoS2SX3",
        "colab_type": "code",
        "outputId": "a3c3809c-db92-4a25-b694-d60cfc393ed3",
        "colab": {
          "base_uri": "https://localhost:8080/",
          "height": 459
        }
      },
      "source": [
        "df.show()"
      ],
      "execution_count": 133,
      "outputs": [
        {
          "output_type": "stream",
          "text": [
            "+------------+-----------+------------+-----------+-------+\n",
            "|sepal_length|sepal_width|petal_length|petal_width|variety|\n",
            "+------------+-----------+------------+-----------+-------+\n",
            "|         5.1|        3.5|         1.4|        0.2| Setosa|\n",
            "|         4.9|        3.0|         1.4|        0.2| Setosa|\n",
            "|         4.7|        3.2|         1.3|        0.2| Setosa|\n",
            "|         4.6|        3.1|         1.5|        0.2| Setosa|\n",
            "|         5.0|        3.6|         1.4|        0.2| Setosa|\n",
            "|         5.4|        3.9|         1.7|        0.4| Setosa|\n",
            "|         4.6|        3.4|         1.4|        0.3| Setosa|\n",
            "|         5.0|        3.4|         1.5|        0.2| Setosa|\n",
            "|         4.4|        2.9|         1.4|        0.2| Setosa|\n",
            "|         4.9|        3.1|         1.5|        0.1| Setosa|\n",
            "|         5.4|        3.7|         1.5|        0.2| Setosa|\n",
            "|         4.8|        3.4|         1.6|        0.2| Setosa|\n",
            "|         4.8|        3.0|         1.4|        0.1| Setosa|\n",
            "|         4.3|        3.0|         1.1|        0.1| Setosa|\n",
            "|         5.8|        4.0|         1.2|        0.2| Setosa|\n",
            "|         5.7|        4.4|         1.5|        0.4| Setosa|\n",
            "|         5.4|        3.9|         1.3|        0.4| Setosa|\n",
            "|         5.1|        3.5|         1.4|        0.3| Setosa|\n",
            "|         5.7|        3.8|         1.7|        0.3| Setosa|\n",
            "|         5.1|        3.8|         1.5|        0.3| Setosa|\n",
            "+------------+-----------+------------+-----------+-------+\n",
            "only showing top 20 rows\n",
            "\n"
          ],
          "name": "stdout"
        }
      ]
    },
    {
      "cell_type": "markdown",
      "metadata": {
        "id": "SUuuiIg349Xs",
        "colab_type": "text"
      },
      "source": [
        "Здесь нужно сделать вектора со всеми параметрами в одном столбце (чтоб вмечто 4 читать 1)"
      ]
    },
    {
      "cell_type": "code",
      "metadata": {
        "id": "gghRguVO2SWk",
        "colab_type": "code",
        "colab": {}
      },
      "source": [
        "feature_cols = df.columns[:-1]\n",
        "transformer = pyspark.ml.feature.VectorAssembler(inputCols=feature_cols, outputCol='4in1')\n",
        "df1 = transformer.transform(df)"
      ],
      "execution_count": 0,
      "outputs": []
    },
    {
      "cell_type": "code",
      "metadata": {
        "id": "DxRf0OJ933RV",
        "colab_type": "code",
        "outputId": "77cafd21-5315-4e3c-ed78-1c762cf729e7",
        "colab": {
          "base_uri": "https://localhost:8080/",
          "height": 459
        }
      },
      "source": [
        "df1.show()"
      ],
      "execution_count": 148,
      "outputs": [
        {
          "output_type": "stream",
          "text": [
            "+------------+-----------+------------+-----------+-------+-----------------+\n",
            "|sepal_length|sepal_width|petal_length|petal_width|variety|             4in1|\n",
            "+------------+-----------+------------+-----------+-------+-----------------+\n",
            "|         5.1|        3.5|         1.4|        0.2| Setosa|[5.1,3.5,1.4,0.2]|\n",
            "|         4.9|        3.0|         1.4|        0.2| Setosa|[4.9,3.0,1.4,0.2]|\n",
            "|         4.7|        3.2|         1.3|        0.2| Setosa|[4.7,3.2,1.3,0.2]|\n",
            "|         4.6|        3.1|         1.5|        0.2| Setosa|[4.6,3.1,1.5,0.2]|\n",
            "|         5.0|        3.6|         1.4|        0.2| Setosa|[5.0,3.6,1.4,0.2]|\n",
            "|         5.4|        3.9|         1.7|        0.4| Setosa|[5.4,3.9,1.7,0.4]|\n",
            "|         4.6|        3.4|         1.4|        0.3| Setosa|[4.6,3.4,1.4,0.3]|\n",
            "|         5.0|        3.4|         1.5|        0.2| Setosa|[5.0,3.4,1.5,0.2]|\n",
            "|         4.4|        2.9|         1.4|        0.2| Setosa|[4.4,2.9,1.4,0.2]|\n",
            "|         4.9|        3.1|         1.5|        0.1| Setosa|[4.9,3.1,1.5,0.1]|\n",
            "|         5.4|        3.7|         1.5|        0.2| Setosa|[5.4,3.7,1.5,0.2]|\n",
            "|         4.8|        3.4|         1.6|        0.2| Setosa|[4.8,3.4,1.6,0.2]|\n",
            "|         4.8|        3.0|         1.4|        0.1| Setosa|[4.8,3.0,1.4,0.1]|\n",
            "|         4.3|        3.0|         1.1|        0.1| Setosa|[4.3,3.0,1.1,0.1]|\n",
            "|         5.8|        4.0|         1.2|        0.2| Setosa|[5.8,4.0,1.2,0.2]|\n",
            "|         5.7|        4.4|         1.5|        0.4| Setosa|[5.7,4.4,1.5,0.4]|\n",
            "|         5.4|        3.9|         1.3|        0.4| Setosa|[5.4,3.9,1.3,0.4]|\n",
            "|         5.1|        3.5|         1.4|        0.3| Setosa|[5.1,3.5,1.4,0.3]|\n",
            "|         5.7|        3.8|         1.7|        0.3| Setosa|[5.7,3.8,1.7,0.3]|\n",
            "|         5.1|        3.8|         1.5|        0.3| Setosa|[5.1,3.8,1.5,0.3]|\n",
            "+------------+-----------+------------+-----------+-------+-----------------+\n",
            "only showing top 20 rows\n",
            "\n"
          ],
          "name": "stdout"
        }
      ]
    },
    {
      "cell_type": "markdown",
      "metadata": {
        "id": "_kF-_aks5lj7",
        "colab_type": "text"
      },
      "source": [
        "Убираем уже ненужные столбццы"
      ]
    },
    {
      "cell_type": "code",
      "metadata": {
        "id": "pOdGf4ZQ2SQ9",
        "colab_type": "code",
        "outputId": "6f1b3ce5-011e-413b-9a6c-79ef551690b9",
        "colab": {
          "base_uri": "https://localhost:8080/",
          "height": 459
        }
      },
      "source": [
        "df1 = df1.select(['4in1', 'variety'])\n",
        "df1.show()"
      ],
      "execution_count": 150,
      "outputs": [
        {
          "output_type": "stream",
          "text": [
            "+-----------------+-------+\n",
            "|             4in1|variety|\n",
            "+-----------------+-------+\n",
            "|[5.1,3.5,1.4,0.2]| Setosa|\n",
            "|[4.9,3.0,1.4,0.2]| Setosa|\n",
            "|[4.7,3.2,1.3,0.2]| Setosa|\n",
            "|[4.6,3.1,1.5,0.2]| Setosa|\n",
            "|[5.0,3.6,1.4,0.2]| Setosa|\n",
            "|[5.4,3.9,1.7,0.4]| Setosa|\n",
            "|[4.6,3.4,1.4,0.3]| Setosa|\n",
            "|[5.0,3.4,1.5,0.2]| Setosa|\n",
            "|[4.4,2.9,1.4,0.2]| Setosa|\n",
            "|[4.9,3.1,1.5,0.1]| Setosa|\n",
            "|[5.4,3.7,1.5,0.2]| Setosa|\n",
            "|[4.8,3.4,1.6,0.2]| Setosa|\n",
            "|[4.8,3.0,1.4,0.1]| Setosa|\n",
            "|[4.3,3.0,1.1,0.1]| Setosa|\n",
            "|[5.8,4.0,1.2,0.2]| Setosa|\n",
            "|[5.7,4.4,1.5,0.4]| Setosa|\n",
            "|[5.4,3.9,1.3,0.4]| Setosa|\n",
            "|[5.1,3.5,1.4,0.3]| Setosa|\n",
            "|[5.7,3.8,1.7,0.3]| Setosa|\n",
            "|[5.1,3.8,1.5,0.3]| Setosa|\n",
            "+-----------------+-------+\n",
            "only showing top 20 rows\n",
            "\n"
          ],
          "name": "stdout"
        }
      ]
    },
    {
      "cell_type": "markdown",
      "metadata": {
        "id": "cf8XSC0h5w9q",
        "colab_type": "text"
      },
      "source": [
        "Меняем текст в названии цветка на цифровое значение и оставляет только нужные значения\n"
      ]
    },
    {
      "cell_type": "code",
      "metadata": {
        "id": "36RoUwSb5aNR",
        "colab_type": "code",
        "colab": {
          "base_uri": "https://localhost:8080/",
          "height": 204
        },
        "outputId": "0d7a5a73-aefc-4053-b91e-d9924bd93624"
      },
      "source": [
        "variety_to_num = pyspark.ml.feature.StringIndexer(inputCol='variety', outputCol='labels').fit(data)\n",
        "df2 = variety_to_num.transform(df1)\n",
        "df3 = data.select(['features', 'label'])\n",
        "df3.show(5)"
      ],
      "execution_count": 241,
      "outputs": [
        {
          "output_type": "stream",
          "text": [
            "+-----------------+-----+\n",
            "|         features|label|\n",
            "+-----------------+-----+\n",
            "|[5.1,3.5,1.4,0.2]|  2.0|\n",
            "|[4.9,3.0,1.4,0.2]|  2.0|\n",
            "|[4.7,3.2,1.3,0.2]|  2.0|\n",
            "|[4.6,3.1,1.5,0.2]|  2.0|\n",
            "|[5.0,3.6,1.4,0.2]|  2.0|\n",
            "+-----------------+-----+\n",
            "only showing top 5 rows\n",
            "\n"
          ],
          "name": "stdout"
        }
      ]
    },
    {
      "cell_type": "markdown",
      "metadata": {
        "id": "eugEYvVP6mLU",
        "colab_type": "text"
      },
      "source": [
        "Разбиваем на тестовый и тренировочный и пишем модель"
      ]
    },
    {
      "cell_type": "code",
      "metadata": {
        "id": "bcrkRABz2SGz",
        "colab_type": "code",
        "colab": {}
      },
      "source": [
        "train, test = data.randomSplit([0.8, 0.2])\n",
        "lr = pyspark.ml.classification.LogisticRegression(maxIter=10)\n",
        "model = lr.fit(train)"
      ],
      "execution_count": 0,
      "outputs": []
    },
    {
      "cell_type": "markdown",
      "metadata": {
        "id": "RLqjbHYP9FtJ",
        "colab_type": "text"
      },
      "source": [
        "Делаем предсказание"
      ]
    },
    {
      "cell_type": "code",
      "metadata": {
        "id": "tePFwGx941eH",
        "colab_type": "code",
        "colab": {
          "base_uri": "https://localhost:8080/",
          "height": 459
        },
        "outputId": "e21fc048-2997-44c8-99af-42eb3a9202f1"
      },
      "source": [
        "predict = model.transform(test)\n",
        "predict.show()"
      ],
      "execution_count": 243,
      "outputs": [
        {
          "output_type": "stream",
          "text": [
            "+-----------------+----------+-----+--------------------+--------------------+----------+\n",
            "|         features|   variety|label|       rawPrediction|         probability|prediction|\n",
            "+-----------------+----------+-----+--------------------+--------------------+----------+\n",
            "|[4.4,3.2,1.3,0.2]|    Setosa|  2.0|[-14.379588841225...|[4.40618809199734...|       2.0|\n",
            "|[4.6,3.1,1.5,0.2]|    Setosa|  2.0|[-13.047392729976...|[1.50901368969699...|       2.0|\n",
            "|[4.6,3.2,1.4,0.2]|    Setosa|  2.0|[-13.962795914238...|[1.66233028677295...|       2.0|\n",
            "|[4.7,3.2,1.3,0.2]|    Setosa|  2.0|[-14.087883338089...|[1.55175382811232...|       2.0|\n",
            "|[4.9,2.5,4.5,1.7]| Virginica|  0.0|[7.45475545546086...|[0.93772434746212...|       0.0|\n",
            "|[4.9,3.0,1.4,0.2]|    Setosa|  2.0|[-12.284929225703...|[1.81554775573664...|       2.0|\n",
            "|[5.0,2.3,3.3,1.0]|Versicolor|  1.0|[1.89188273284863...|[0.03213504687866...|       1.0|\n",
            "|[5.0,3.4,1.6,0.4]|    Setosa|  2.0|[-13.264400395101...|[8.81087943461337...|       2.0|\n",
            "|[5.0,3.5,1.6,0.6]|    Setosa|  2.0|[-12.706510137237...|[1.82747573762068...|       2.0|\n",
            "|[5.1,3.3,1.7,0.5]|    Setosa|  2.0|[-11.626276617845...|[4.13516313277211...|       2.0|\n",
            "|[5.2,3.4,1.4,0.2]|    Setosa|  2.0|[-14.765546093366...|[6.64610690063186...|       2.0|\n",
            "|[5.2,4.1,1.5,0.1]|    Setosa|  2.0|[-20.020273075984...|[1.91660739609710...|       2.0|\n",
            "|[5.4,3.4,1.7,0.2]|    Setosa|  2.0|[-13.904107983255...|[6.66034896927488...|       2.0|\n",
            "|[5.4,3.7,1.5,0.2]|    Setosa|  2.0|[-16.427994944479...|[1.45116961307625...|       2.0|\n",
            "|[5.4,3.9,1.7,0.4]|    Setosa|  2.0|[-16.118540096189...|[1.43551998207822...|       2.0|\n",
            "|[5.5,3.5,1.3,0.2]|    Setosa|  2.0|[-15.389243774493...|[2.57836995528674...|       2.0|\n",
            "|[5.6,2.9,3.6,1.3]|Versicolor|  1.0|[0.86023423345544...|[0.02084175013981...|       1.0|\n",
            "|[5.6,3.0,4.5,1.5]|Versicolor|  1.0|[3.41902781538202...|[0.21429119894591...|       1.0|\n",
            "|[5.7,2.5,5.0,2.0]| Virginica|  0.0|[11.2207060308145...|[0.98943650463009...|       0.0|\n",
            "|[5.7,2.9,4.2,1.3]|Versicolor|  1.0|[2.29140495054225...|[0.05181950431039...|       1.0|\n",
            "+-----------------+----------+-----+--------------------+--------------------+----------+\n",
            "only showing top 20 rows\n",
            "\n"
          ],
          "name": "stdout"
        }
      ]
    },
    {
      "cell_type": "code",
      "metadata": {
        "id": "K14BHwXR41g8",
        "colab_type": "code",
        "colab": {}
      },
      "source": [
        "evaluator = MulticlassClassificationEvaluator(labelCol=\"label\", predictionCol=\"prediction\", metricName=\"accuracy\")\n",
        "accuracy = evaluator.evaluate(prediction)"
      ],
      "execution_count": 0,
      "outputs": []
    },
    {
      "cell_type": "code",
      "metadata": {
        "id": "l80DfEnH41mb",
        "colab_type": "code",
        "colab": {
          "base_uri": "https://localhost:8080/",
          "height": 34
        },
        "outputId": "a207544f-4f09-40b7-a429-d8164a2bf6df"
      },
      "source": [
        "print(\"Точноть = %g\" % accuracy)"
      ],
      "execution_count": 246,
      "outputs": [
        {
          "output_type": "stream",
          "text": [
            "Точноть = 0.571429\n"
          ],
          "name": "stdout"
        }
      ]
    }
  ]
}